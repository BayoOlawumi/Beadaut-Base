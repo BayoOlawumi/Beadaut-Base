{
 "cells": [
  {
   "cell_type": "markdown",
   "id": "de9bea8c",
   "metadata": {},
   "source": [
    "## What is SQL?\n",
    "- **SQL stands for Structured Query Language**\n",
    "- **SQL lets you access and manipulate databases**"
   ]
  },
  {
   "cell_type": "markdown",
   "id": "e61faa98",
   "metadata": {},
   "source": [
    "### What Can SQL do?\n",
    "- SQL can execute queries against a database\n",
    "- SQL can retrieve data from a database\n",
    "- SQL can insert records in a database\n",
    "- SQL can update records in a database\n",
    "- SQL can delete records from a database\n",
    "- SQL can create new databases\n",
    "- SQL can create new tables in a database\n",
    "- SQL can create stored procedures in a database\n",
    "- SQL can create views in a database\n",
    "- SQL can set permissions on tables, procedures, and views\n"
   ]
  },
  {
   "cell_type": "markdown",
   "id": "878f1643",
   "metadata": {},
   "source": [
    "**SQL is a Standard - BUT there are different versions of the SQL language.**"
   ]
  },
  {
   "cell_type": "markdown",
   "id": "78862285",
   "metadata": {},
   "source": [
    "- SQLite\n",
    "- MySQL\n",
    "- PostgreSQL\n",
    "- mSQL\n",
    "- Microsoft SQL Server 2000"
   ]
  },
  {
   "cell_type": "markdown",
   "id": "bc9fe069",
   "metadata": {},
   "source": [
    "### We will be using SQLite because it is very Light and easy to interoperate with Python"
   ]
  },
  {
   "cell_type": "markdown",
   "id": "d1310017",
   "metadata": {},
   "source": [
    "**How to Connect**"
   ]
  },
  {
   "cell_type": "code",
   "execution_count": 156,
   "id": "d02f50df",
   "metadata": {},
   "outputs": [],
   "source": [
    "import pandas as pd"
   ]
  },
  {
   "cell_type": "code",
   "execution_count": 157,
   "id": "6c8dd14d",
   "metadata": {},
   "outputs": [],
   "source": [
    "import sqlite3\n",
    "conn = sqlite3.connect('../example.db')"
   ]
  },
  {
   "cell_type": "code",
   "execution_count": 158,
   "id": "edcd271b",
   "metadata": {},
   "outputs": [],
   "source": [
    "#Creating a cursor object using the cursor() method\n",
    "#Cursor class is an instance using which you can invoke methods that execute SQLite statements\n",
    "cursor = conn.cursor()"
   ]
  },
  {
   "cell_type": "code",
   "execution_count": 159,
   "id": "ebdddf1b",
   "metadata": {},
   "outputs": [
    {
     "name": "stdout",
     "output_type": "stream",
     "text": [
      "Table created successfully........\n"
     ]
    }
   ],
   "source": [
    "#Droping EMPLOYEE table if already exists.\n",
    "cursor.execute(\"DROP TABLE IF EXISTS EMPLOYEE\")\n",
    "\n",
    "\n",
    "\n",
    "#Creating table as per requirement\n",
    "sql ='''CREATE TABLE EMPLOYEE(\n",
    "         FIRST_NAME CHAR(20) NOT NULL,\n",
    "         LAST_NAME CHAR(20),\n",
    "         AGE INT,\n",
    "         SEX CHAR(6),\n",
    "         INCOME FLOAT,\n",
    "         BIO VARCHAR(50)\n",
    "         )\n",
    "    '''\n",
    "cursor.execute(sql)\n",
    "print(\"Table created successfully........\")\n",
    "# Commit your changes in the database\n",
    "conn.commit()\n",
    "#Closing the connection\n",
    "#conn.close()"
   ]
  },
  {
   "cell_type": "code",
   "execution_count": 160,
   "id": "0c1c7f5f",
   "metadata": {},
   "outputs": [],
   "source": [
    "### There are other relevant commands you can add when creating a table\n",
    "# Find them out"
   ]
  },
  {
   "cell_type": "markdown",
   "id": "4dd93c36",
   "metadata": {},
   "source": [
    "### Insert Data"
   ]
  },
  {
   "cell_type": "code",
   "execution_count": 161,
   "id": "80dfae8b",
   "metadata": {},
   "outputs": [],
   "source": [
    "cursor.execute('''INSERT INTO EMPLOYEE(FIRST_NAME, LAST_NAME, AGE, SEX,\n",
    " INCOME, BIO) VALUES ('Ramya', 'Rama Priya', 27, 'F', 9000, 'I like what I do')''')\n",
    "\n",
    "# Commit your changes in the database\n",
    "conn.commit()"
   ]
  },
  {
   "cell_type": "code",
   "execution_count": 162,
   "id": "a6079d58",
   "metadata": {},
   "outputs": [],
   "source": [
    "# watch out for this successful execution without lastname\n",
    "cursor.execute('''INSERT INTO EMPLOYEE(FIRST_NAME, AGE, SEX,\n",
    " INCOME, BIO) VALUES ('Vinay', 20, 'M', 6000, 'I am ajanlekoko')''')\n",
    "\n",
    "cursor.execute('''INSERT INTO EMPLOYEE(FIRST_NAME, LAST_NAME, AGE, SEX,\n",
    " INCOME, BIO) VALUES ('Sharukh', 'Sheik', 25, 'M', 8300, 'I am a good man')''')\n",
    "\n",
    "cursor.execute('''INSERT INTO EMPLOYEE(FIRST_NAME,LAST_NAME,  AGE, SEX,\n",
    " INCOME, BIO) VALUES ('Kolapo', 'Joshua',40, 'M', 7000, 'I am a singer')''')\n",
    "\n",
    "# Commit your changes in the database\n",
    "conn.commit()"
   ]
  },
  {
   "cell_type": "code",
   "execution_count": 163,
   "id": "a09133dd",
   "metadata": {},
   "outputs": [],
   "source": [
    "cursor.execute('''INSERT INTO EMPLOYEE(FIRST_NAME, LAST_NAME, AGE, SEX,\n",
    " INCOME, BIO) VALUES ('Sarmista', 'Sharma', 26, 'F', 10000, 'I was made in the moon')''')\n",
    "\n",
    "cursor.execute('''INSERT INTO EMPLOYEE(FIRST_NAME, LAST_NAME, AGE, SEX,\n",
    " INCOME, BIO) VALUES ( 'Vandamm', 'Mishra', 24, 'F', 6000, 'I had 2 wives')''')\n",
    "\n",
    "# Commit your changes in the database\n",
    "conn.commit()"
   ]
  },
  {
   "cell_type": "markdown",
   "id": "29d2646a",
   "metadata": {},
   "source": [
    "### Select Data"
   ]
  },
  {
   "cell_type": "code",
   "execution_count": 164,
   "id": "47d5ad31",
   "metadata": {},
   "outputs": [
    {
     "data": {
      "text/plain": [
       "[('Ramya', 'Rama Priya', 27, 'F', 9000.0, 'I like what I do'),\n",
       " ('Vinay', None, 20, 'M', 6000.0, 'I am ajanlekoko'),\n",
       " ('Sharukh', 'Sheik', 25, 'M', 8300.0, 'I am a good man'),\n",
       " ('Kolapo', 'Joshua', 40, 'M', 7000.0, 'I am a singer'),\n",
       " ('Sarmista', 'Sharma', 26, 'F', 10000.0, 'I was made in the moon'),\n",
       " ('Vandamm', 'Mishra', 24, 'F', 6000.0, 'I had 2 wives')]"
      ]
     },
     "execution_count": 164,
     "metadata": {},
     "output_type": "execute_result"
    }
   ],
   "source": [
    "# SELECT column1, column2, columnN FROM table_name;\n",
    "\n",
    "#Retrieving data\n",
    "cursor.execute(\"SELECT * from EMPLOYEE\").fetchall()\n"
   ]
  },
  {
   "cell_type": "code",
   "execution_count": 165,
   "id": "3226fe35",
   "metadata": {},
   "outputs": [
    {
     "name": "stdout",
     "output_type": "stream",
     "text": [
      "[]\n"
     ]
    }
   ],
   "source": [
    "#Fetching all rows from the table\n",
    "result2 = cursor.fetchall()\n",
    "print(result2)\n",
    "#Commit your changes in the database\n",
    "conn.commit()\n",
    "#Closing the connection\n",
    "# conn.close()"
   ]
  },
  {
   "cell_type": "code",
   "execution_count": 166,
   "id": "afa3f946",
   "metadata": {},
   "outputs": [
    {
     "name": "stdout",
     "output_type": "stream",
     "text": [
      "None\n"
     ]
    }
   ],
   "source": [
    "#Fetching 1st row from the table\n",
    "result1 = cursor.fetchone()\n",
    "print(result1)\n",
    "#Commit your changes in the database\n",
    "conn.commit()"
   ]
  },
  {
   "cell_type": "code",
   "execution_count": 167,
   "id": "e254361d",
   "metadata": {},
   "outputs": [
    {
     "name": "stdout",
     "output_type": "stream",
     "text": [
      "[('Ramya', 'Rama Priya'), ('Vinay', None), ('Sharukh', 'Sheik'), ('Kolapo', 'Joshua'), ('Sarmista', 'Sharma'), ('Vandamm', 'Mishra')]\n"
     ]
    }
   ],
   "source": [
    "#Retrieving data\n",
    "cursor.execute('''SELECT FIRST_NAME, LAST_NAME from EMPLOYEE''')\n",
    "result3 = cursor.fetchall();\n",
    "print(result3)\n",
    "conn.commit()"
   ]
  },
  {
   "cell_type": "markdown",
   "id": "46ab2c4d",
   "metadata": {},
   "source": [
    "### Other Important key functions"
   ]
  },
  {
   "cell_type": "markdown",
   "id": "1a32334c",
   "metadata": {},
   "source": [
    "**AVG, MIN, MAX, COUNT, SUM**"
   ]
  },
  {
   "cell_type": "code",
   "execution_count": 168,
   "id": "d7029187",
   "metadata": {},
   "outputs": [
    {
     "name": "stdout",
     "output_type": "stream",
     "text": [
      "[(6,)]\n"
     ]
    }
   ],
   "source": [
    "#Retrieving data\n",
    "cursor.execute('''SELECT COUNT(INCOME) from EMPLOYEE''')\n",
    "result4 = cursor.fetchall();\n",
    "print(result4)\n",
    "conn.commit()"
   ]
  },
  {
   "cell_type": "code",
   "execution_count": 169,
   "id": "dd66de8e",
   "metadata": {},
   "outputs": [
    {
     "name": "stdout",
     "output_type": "stream",
     "text": [
      "[('F',), ('M',)]\n"
     ]
    }
   ],
   "source": [
    "# Distinct\n",
    "cursor.execute('''SELECT DISTINCT(SEX) from EMPLOYEE''')\n",
    "result4 = cursor.fetchall();\n",
    "print(result4)\n",
    "conn.commit()"
   ]
  },
  {
   "cell_type": "code",
   "execution_count": 170,
   "id": "c712c5e5",
   "metadata": {},
   "outputs": [],
   "source": [
    "conn.close()"
   ]
  },
  {
   "cell_type": "code",
   "execution_count": null,
   "id": "a04d5586",
   "metadata": {},
   "outputs": [],
   "source": []
  }
 ],
 "metadata": {
  "kernelspec": {
   "display_name": "Python 3 (ipykernel)",
   "language": "python",
   "name": "python3"
  },
  "language_info": {
   "codemirror_mode": {
    "name": "ipython",
    "version": 3
   },
   "file_extension": ".py",
   "mimetype": "text/x-python",
   "name": "python",
   "nbconvert_exporter": "python",
   "pygments_lexer": "ipython3",
   "version": "3.9.13"
  }
 },
 "nbformat": 4,
 "nbformat_minor": 5
}
