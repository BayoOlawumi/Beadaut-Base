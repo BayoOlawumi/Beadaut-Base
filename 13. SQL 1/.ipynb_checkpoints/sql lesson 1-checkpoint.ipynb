{
 "cells": [
  {
   "cell_type": "code",
   "execution_count": 6,
   "id": "638a3064",
   "metadata": {},
   "outputs": [],
   "source": [
    "import sqlite3\n",
    "conn = sqlite3.connect('../example.db')\n",
    "cursor = conn.cursor()"
   ]
  },
  {
   "cell_type": "markdown",
   "id": "5c13c583",
   "metadata": {},
   "source": [
    "### SELECT with WHERE clause"
   ]
  },
  {
   "cell_type": "code",
   "execution_count": 7,
   "id": "8e897a87",
   "metadata": {},
   "outputs": [],
   "source": [
    "sql = '''\n",
    "    SELECT * FROM EMPLOYEE\n",
    "    WHERE SEX = 'M'\n",
    "'''"
   ]
  },
  {
   "cell_type": "code",
   "execution_count": 8,
   "id": "8dcce6d5",
   "metadata": {},
   "outputs": [
    {
     "name": "stdout",
     "output_type": "stream",
     "text": [
      "[('Vinay', None, 20, 'M', 6000.0, 'I am ajanlekoko'), ('Sharukh', 'Sheik', 25, 'M', 8300.0, 'I am a good man'), ('Kolapo', 'Joshua', 40, 'M', 7000.0, 'I am a singer')]\n"
     ]
    }
   ],
   "source": [
    "cursor.execute(sql)\n",
    "conn.commit()\n",
    "\n",
    "result1 = cursor.fetchall()\n",
    "print(result1)"
   ]
  },
  {
   "cell_type": "code",
   "execution_count": 9,
   "id": "66b822c4",
   "metadata": {},
   "outputs": [],
   "source": [
    "sql2 = '''\n",
    "    SELECT BIO FROM EMPLOYEE\n",
    "    WHERE AGE < 25\n",
    "'''"
   ]
  },
  {
   "cell_type": "code",
   "execution_count": 10,
   "id": "1788a23d",
   "metadata": {},
   "outputs": [
    {
     "name": "stdout",
     "output_type": "stream",
     "text": [
      "[('I am ajanlekoko',)]\n"
     ]
    }
   ],
   "source": [
    "cursor.execute(sql2)\n",
    "conn.commit()\n",
    "\n",
    "result2 = cursor.fetchall()\n",
    "print(result2)"
   ]
  },
  {
   "cell_type": "markdown",
   "id": "5497e214",
   "metadata": {},
   "source": [
    "**OR and AND**"
   ]
  },
  {
   "cell_type": "code",
   "execution_count": 13,
   "id": "050a2e4a",
   "metadata": {},
   "outputs": [],
   "source": [
    "sql2 = '''\n",
    "    SELECT BIO FROM EMPLOYEE\n",
    "    WHERE AGE < 25 AND SEX = 'F'\n",
    "'''"
   ]
  },
  {
   "cell_type": "code",
   "execution_count": 14,
   "id": "cd24af2e",
   "metadata": {},
   "outputs": [
    {
     "name": "stdout",
     "output_type": "stream",
     "text": [
      "[('I am ajanlekoko',)]\n"
     ]
    }
   ],
   "source": [
    "cursor.execute(sql2)\n",
    "conn.commit()\n",
    "\n",
    "result2 = cursor.fetchall()\n",
    "print(result2)"
   ]
  },
  {
   "cell_type": "markdown",
   "id": "feb0e800",
   "metadata": {},
   "source": [
    "**LIKE**"
   ]
  },
  {
   "cell_type": "code",
   "execution_count": 17,
   "id": "4aa5095f",
   "metadata": {},
   "outputs": [],
   "source": [
    "sql2 = '''\n",
    "    SELECT BIO FROM EMPLOYEE\n",
    "    WHERE BIO LIKE '%singer'\n",
    "'''"
   ]
  },
  {
   "cell_type": "code",
   "execution_count": 18,
   "id": "dd914402",
   "metadata": {},
   "outputs": [
    {
     "name": "stdout",
     "output_type": "stream",
     "text": [
      "[('I am a singer',)]\n"
     ]
    }
   ],
   "source": [
    "cursor.execute(sql2)\n",
    "conn.commit()\n",
    "\n",
    "result2 = cursor.fetchall()\n",
    "print(result2)"
   ]
  },
  {
   "cell_type": "markdown",
   "id": "5703a918",
   "metadata": {},
   "source": [
    "**BETWEEN**"
   ]
  },
  {
   "cell_type": "code",
   "execution_count": 11,
   "id": "11c90b51",
   "metadata": {},
   "outputs": [],
   "source": [
    "sql2 = '''\n",
    "    SELECT BIO FROM EMPLOYEE\n",
    "    WHERE AGE BETWEEN 20 AND 25\n",
    "'''"
   ]
  },
  {
   "cell_type": "code",
   "execution_count": 12,
   "id": "4c66ce60",
   "metadata": {},
   "outputs": [
    {
     "name": "stdout",
     "output_type": "stream",
     "text": [
      "[('I am ajanlekoko',), ('I am a good man',)]\n"
     ]
    }
   ],
   "source": [
    "cursor.execute(sql2)\n",
    "conn.commit()\n",
    "\n",
    "result2 = cursor.fetchall()\n",
    "print(result2)"
   ]
  },
  {
   "cell_type": "markdown",
   "id": "236fa652",
   "metadata": {},
   "source": [
    "### ORDERBY"
   ]
  },
  {
   "cell_type": "code",
   "execution_count": 6,
   "id": "7338b22b",
   "metadata": {},
   "outputs": [],
   "source": [
    "sql3 = '''\n",
    "    SELECT * FROM EMPLOYEE\n",
    "    WHERE SEX = 'M'\n",
    "    ORDER BY AGE DESC\n",
    "'''"
   ]
  },
  {
   "cell_type": "code",
   "execution_count": 7,
   "id": "b5d8522e",
   "metadata": {},
   "outputs": [
    {
     "name": "stdout",
     "output_type": "stream",
     "text": [
      "[('Sharukh', 'Sheik', 25, 'M', 8300.0, 'I am a good man'), ('Vinay', None, 20, 'M', 6000.0, 'I am ajanlekoko')]\n"
     ]
    }
   ],
   "source": [
    "cursor.execute(sql3)\n",
    "conn.commit()\n",
    "\n",
    "result3 = cursor.fetchall()\n",
    "print(result3)"
   ]
  },
  {
   "cell_type": "markdown",
   "id": "d8834fc1",
   "metadata": {},
   "source": [
    "### UPDATE TABLE"
   ]
  },
  {
   "cell_type": "code",
   "execution_count": 8,
   "id": "24b837f8",
   "metadata": {},
   "outputs": [],
   "source": [
    "sql4 = '''\n",
    "    UPDATE EMPLOYEE SET BIO ='I am no longer ajanlekoko'\n",
    "    WHERE FIRST_NAME = 'Vinay';\n",
    "'''"
   ]
  },
  {
   "cell_type": "code",
   "execution_count": 9,
   "id": "29cb5959",
   "metadata": {},
   "outputs": [],
   "source": [
    "cursor.execute(sql4)\n",
    "conn.commit()\n"
   ]
  },
  {
   "cell_type": "code",
   "execution_count": 10,
   "id": "c44c15ae",
   "metadata": {},
   "outputs": [
    {
     "name": "stdout",
     "output_type": "stream",
     "text": [
      "[('Ramya', 'Rama Priya', 27, 'F', 9000.0, 'I like what I do'), ('Vinay', None, 20, 'M', 6000.0, 'I am no longer ajanlekoko'), ('Sharukh', 'Sheik', 25, 'M', 8300.0, 'I am a good man'), ('Sarmista', 'Sharma', 26, 'F', 10000.0, 'I was made in the moon')]\n"
     ]
    }
   ],
   "source": [
    "cursor.execute('''SELECT * FROM EMPLOYEE''')\n",
    "conn.commit()\n",
    "\n",
    "result4 = cursor.fetchall()\n",
    "print(result4)"
   ]
  },
  {
   "cell_type": "markdown",
   "id": "35833bc3",
   "metadata": {},
   "source": [
    "### DELETE TABLE"
   ]
  },
  {
   "cell_type": "code",
   "execution_count": 11,
   "id": "f3e264bc",
   "metadata": {},
   "outputs": [],
   "source": [
    "sql5 = '''\n",
    "    DELETE FROM EMPLOYEE\n",
    "    WHERE AGE < 25\n",
    "'''"
   ]
  },
  {
   "cell_type": "code",
   "execution_count": 12,
   "id": "eb7642c2",
   "metadata": {},
   "outputs": [],
   "source": [
    "cursor.execute(sql5)\n",
    "conn.commit()\n"
   ]
  },
  {
   "cell_type": "code",
   "execution_count": 13,
   "id": "33c9f9ad",
   "metadata": {},
   "outputs": [
    {
     "name": "stdout",
     "output_type": "stream",
     "text": [
      "[('Ramya', 'Rama Priya', 27, 'F', 9000.0, 'I like what I do'), ('Sharukh', 'Sheik', 25, 'M', 8300.0, 'I am a good man'), ('Sarmista', 'Sharma', 26, 'F', 10000.0, 'I was made in the moon')]\n"
     ]
    }
   ],
   "source": [
    "cursor.execute('''SELECT * FROM EMPLOYEE''')\n",
    "conn.commit()\n",
    "\n",
    "result5 = cursor.fetchall()\n",
    "print(result5)"
   ]
  },
  {
   "cell_type": "code",
   "execution_count": null,
   "id": "fa721a80",
   "metadata": {},
   "outputs": [],
   "source": []
  },
  {
   "cell_type": "markdown",
   "id": "47f40db1",
   "metadata": {},
   "source": [
    "### DROP TABLE"
   ]
  },
  {
   "cell_type": "code",
   "execution_count": 14,
   "id": "18d19b6c",
   "metadata": {},
   "outputs": [],
   "source": [
    "cursor.execute(\"CREATE TABLE STAFF(NAME CHAR(20))\")\n",
    "conn.commit()"
   ]
  },
  {
   "cell_type": "code",
   "execution_count": 15,
   "id": "10e6c93f",
   "metadata": {},
   "outputs": [
    {
     "name": "stdout",
     "output_type": "stream",
     "text": [
      "[('EMPLOYEE',), ('STAFF',)]\n"
     ]
    }
   ],
   "source": [
    "cursor.execute(\"\"\"SELECT name FROM sqlite_master \n",
    "    WHERE type='table';\"\"\")\n",
    "\n",
    "conn.commit()\n",
    "\n",
    "result6 = cursor.fetchall()\n",
    "print(result6)"
   ]
  },
  {
   "cell_type": "code",
   "execution_count": 16,
   "id": "e828bafa",
   "metadata": {},
   "outputs": [],
   "source": [
    "cursor.execute(\"DROP TABLE STAFF\")\n",
    "conn.commit()"
   ]
  },
  {
   "cell_type": "code",
   "execution_count": 17,
   "id": "6cafd75a",
   "metadata": {},
   "outputs": [
    {
     "name": "stdout",
     "output_type": "stream",
     "text": [
      "[('EMPLOYEE',)]\n"
     ]
    }
   ],
   "source": [
    "cursor.execute(\"\"\"SELECT name FROM sqlite_master \n",
    "    WHERE type='table';\"\"\")\n",
    "\n",
    "conn.commit()\n",
    "\n",
    "result7 = cursor.fetchall()\n",
    "print(result7)"
   ]
  },
  {
   "cell_type": "code",
   "execution_count": null,
   "id": "fe1e29de",
   "metadata": {},
   "outputs": [],
   "source": []
  }
 ],
 "metadata": {
  "kernelspec": {
   "display_name": "Python 3 (ipykernel)",
   "language": "python",
   "name": "python3"
  },
  "language_info": {
   "codemirror_mode": {
    "name": "ipython",
    "version": 3
   },
   "file_extension": ".py",
   "mimetype": "text/x-python",
   "name": "python",
   "nbconvert_exporter": "python",
   "pygments_lexer": "ipython3",
   "version": "3.9.13"
  }
 },
 "nbformat": 4,
 "nbformat_minor": 5
}
