{
 "cells": [
  {
   "cell_type": "markdown",
   "id": "434a2055",
   "metadata": {},
   "source": [
    "## Introduction to Data Visualization and Dashboards - Data Delivery"
   ]
  },
  {
   "cell_type": "markdown",
   "id": "c1a5b63c",
   "metadata": {},
   "source": [
    "### Benefits of Data Visualization\n",
    "- Fast Comprehension of Information\n",
    "- Correlation of Relationships\n",
    "   - ` Patterns, Trends over time, Frequency, Risk and Rewards `"
   ]
  },
  {
   "cell_type": "markdown",
   "id": "30382485",
   "metadata": {},
   "source": [
    "- **2D Visualizations**\n",
    "- **Dashboards** - Real time Visualization\n",
    "- **Data Storytelling -** Check the Slide and Video from the last Webinar"
   ]
  },
  {
   "cell_type": "code",
   "execution_count": 1,
   "id": "91a88317",
   "metadata": {},
   "outputs": [],
   "source": [
    "import pandas as pd"
   ]
  },
  {
   "cell_type": "code",
   "execution_count": 2,
   "id": "529af0d7",
   "metadata": {},
   "outputs": [],
   "source": [
    "df = pd.read_csv(\"processed_mv.csv\")"
   ]
  },
  {
   "cell_type": "code",
   "execution_count": 3,
   "id": "27b4521c",
   "metadata": {},
   "outputs": [
    {
     "name": "stdout",
     "output_type": "stream",
     "text": [
      "<class 'pandas.core.frame.DataFrame'>\n",
      "RangeIndex: 31252 entries, 0 to 31251\n",
      "Data columns (total 18 columns):\n",
      " #   Column             Non-Null Count  Dtype  \n",
      "---  ------             --------------  -----  \n",
      " 0   id                 31252 non-null  int64  \n",
      " 1   title              31252 non-null  object \n",
      " 2   original_language  31252 non-null  object \n",
      " 3   overview           31252 non-null  object \n",
      " 4   tagline            12676 non-null  object \n",
      " 5   release_date       31252 non-null  object \n",
      " 6   popularity         31252 non-null  int64  \n",
      " 7   vote_count         31252 non-null  int64  \n",
      " 8   vote_average       31252 non-null  float64\n",
      " 9   budget             31252 non-null  int64  \n",
      " 10  revenue            31252 non-null  int64  \n",
      " 11  runtime            31252 non-null  int64  \n",
      " 12  status             31252 non-null  object \n",
      " 13  adult              31252 non-null  bool   \n",
      " 14  genre_names        31252 non-null  object \n",
      " 15  popularity_rank    31251 non-null  object \n",
      " 16  year               31252 non-null  int64  \n",
      " 17  profit             31252 non-null  int64  \n",
      "dtypes: bool(1), float64(1), int64(8), object(8)\n",
      "memory usage: 4.1+ MB\n"
     ]
    }
   ],
   "source": [
    "df.info()"
   ]
  },
  {
   "cell_type": "code",
   "execution_count": 4,
   "id": "cb323b85",
   "metadata": {},
   "outputs": [
    {
     "data": {
      "text/html": [
       "<div>\n",
       "<style scoped>\n",
       "    .dataframe tbody tr th:only-of-type {\n",
       "        vertical-align: middle;\n",
       "    }\n",
       "\n",
       "    .dataframe tbody tr th {\n",
       "        vertical-align: top;\n",
       "    }\n",
       "\n",
       "    .dataframe thead th {\n",
       "        text-align: right;\n",
       "    }\n",
       "</style>\n",
       "<table border=\"1\" class=\"dataframe\">\n",
       "  <thead>\n",
       "    <tr style=\"text-align: right;\">\n",
       "      <th></th>\n",
       "      <th>id</th>\n",
       "      <th>title</th>\n",
       "      <th>original_language</th>\n",
       "      <th>overview</th>\n",
       "      <th>tagline</th>\n",
       "      <th>release_date</th>\n",
       "      <th>popularity</th>\n",
       "      <th>vote_count</th>\n",
       "      <th>vote_average</th>\n",
       "      <th>budget</th>\n",
       "      <th>revenue</th>\n",
       "      <th>runtime</th>\n",
       "      <th>status</th>\n",
       "      <th>adult</th>\n",
       "      <th>genre_names</th>\n",
       "      <th>popularity_rank</th>\n",
       "      <th>year</th>\n",
       "      <th>profit</th>\n",
       "    </tr>\n",
       "  </thead>\n",
       "  <tbody>\n",
       "    <tr>\n",
       "      <th>0</th>\n",
       "      <td>760161</td>\n",
       "      <td>Orphan: First Kill</td>\n",
       "      <td>en</td>\n",
       "      <td>After escaping from an Estonian psychiatric fa...</td>\n",
       "      <td>There's always been something wrong with Esther.</td>\n",
       "      <td>2022-07-27</td>\n",
       "      <td>5089</td>\n",
       "      <td>902</td>\n",
       "      <td>6.9</td>\n",
       "      <td>0</td>\n",
       "      <td>9572765</td>\n",
       "      <td>99</td>\n",
       "      <td>Released</td>\n",
       "      <td>False</td>\n",
       "      <td>Horror, Thriller</td>\n",
       "      <td>Very Popular</td>\n",
       "      <td>2022</td>\n",
       "      <td>0</td>\n",
       "    </tr>\n",
       "    <tr>\n",
       "      <th>1</th>\n",
       "      <td>760741</td>\n",
       "      <td>Beast</td>\n",
       "      <td>en</td>\n",
       "      <td>A recently widowed man and his two teenage dau...</td>\n",
       "      <td>Fight for family.</td>\n",
       "      <td>2022-08-11</td>\n",
       "      <td>2172</td>\n",
       "      <td>584</td>\n",
       "      <td>7.1</td>\n",
       "      <td>0</td>\n",
       "      <td>56000000</td>\n",
       "      <td>93</td>\n",
       "      <td>Released</td>\n",
       "      <td>False</td>\n",
       "      <td>Adventure, Drama, Horror</td>\n",
       "      <td>Very Popular</td>\n",
       "      <td>2022</td>\n",
       "      <td>0</td>\n",
       "    </tr>\n",
       "    <tr>\n",
       "      <th>2</th>\n",
       "      <td>882598</td>\n",
       "      <td>Smile</td>\n",
       "      <td>en</td>\n",
       "      <td>After witnessing a bizarre, traumatic incident...</td>\n",
       "      <td>Once you see it, it’s too late.</td>\n",
       "      <td>2022-09-23</td>\n",
       "      <td>1864</td>\n",
       "      <td>114</td>\n",
       "      <td>6.8</td>\n",
       "      <td>17000000</td>\n",
       "      <td>45000000</td>\n",
       "      <td>115</td>\n",
       "      <td>Released</td>\n",
       "      <td>False</td>\n",
       "      <td>Horror, Mystery, Thriller</td>\n",
       "      <td>Very Popular</td>\n",
       "      <td>2022</td>\n",
       "      <td>28000000</td>\n",
       "    </tr>\n",
       "    <tr>\n",
       "      <th>3</th>\n",
       "      <td>756999</td>\n",
       "      <td>The Black Phone</td>\n",
       "      <td>en</td>\n",
       "      <td>Finney Blake, a shy but clever 13-year-old boy...</td>\n",
       "      <td>Never talk to strangers.</td>\n",
       "      <td>2022-06-22</td>\n",
       "      <td>1071</td>\n",
       "      <td>2736</td>\n",
       "      <td>7.9</td>\n",
       "      <td>18800000</td>\n",
       "      <td>161000000</td>\n",
       "      <td>103</td>\n",
       "      <td>Released</td>\n",
       "      <td>False</td>\n",
       "      <td>Horror, Thriller</td>\n",
       "      <td>Very Popular</td>\n",
       "      <td>2022</td>\n",
       "      <td>142200000</td>\n",
       "    </tr>\n",
       "    <tr>\n",
       "      <th>4</th>\n",
       "      <td>772450</td>\n",
       "      <td>Presences</td>\n",
       "      <td>es</td>\n",
       "      <td>A man who loses his wife and goes to seclude h...</td>\n",
       "      <td>NaN</td>\n",
       "      <td>2022-09-07</td>\n",
       "      <td>1021</td>\n",
       "      <td>83</td>\n",
       "      <td>7.0</td>\n",
       "      <td>0</td>\n",
       "      <td>0</td>\n",
       "      <td>0</td>\n",
       "      <td>Released</td>\n",
       "      <td>False</td>\n",
       "      <td>Horror</td>\n",
       "      <td>Very Popular</td>\n",
       "      <td>2022</td>\n",
       "      <td>0</td>\n",
       "    </tr>\n",
       "  </tbody>\n",
       "</table>\n",
       "</div>"
      ],
      "text/plain": [
       "       id               title original_language  \\\n",
       "0  760161  Orphan: First Kill                en   \n",
       "1  760741               Beast                en   \n",
       "2  882598               Smile                en   \n",
       "3  756999     The Black Phone                en   \n",
       "4  772450           Presences                es   \n",
       "\n",
       "                                            overview  \\\n",
       "0  After escaping from an Estonian psychiatric fa...   \n",
       "1  A recently widowed man and his two teenage dau...   \n",
       "2  After witnessing a bizarre, traumatic incident...   \n",
       "3  Finney Blake, a shy but clever 13-year-old boy...   \n",
       "4  A man who loses his wife and goes to seclude h...   \n",
       "\n",
       "                                            tagline release_date  popularity  \\\n",
       "0  There's always been something wrong with Esther.   2022-07-27        5089   \n",
       "1                                 Fight for family.   2022-08-11        2172   \n",
       "2                   Once you see it, it’s too late.   2022-09-23        1864   \n",
       "3                          Never talk to strangers.   2022-06-22        1071   \n",
       "4                                               NaN   2022-09-07        1021   \n",
       "\n",
       "   vote_count  vote_average    budget    revenue  runtime    status  adult  \\\n",
       "0         902           6.9         0    9572765       99  Released  False   \n",
       "1         584           7.1         0   56000000       93  Released  False   \n",
       "2         114           6.8  17000000   45000000      115  Released  False   \n",
       "3        2736           7.9  18800000  161000000      103  Released  False   \n",
       "4          83           7.0         0          0        0  Released  False   \n",
       "\n",
       "                 genre_names popularity_rank  year     profit  \n",
       "0           Horror, Thriller    Very Popular  2022          0  \n",
       "1   Adventure, Drama, Horror    Very Popular  2022          0  \n",
       "2  Horror, Mystery, Thriller    Very Popular  2022   28000000  \n",
       "3           Horror, Thriller    Very Popular  2022  142200000  \n",
       "4                     Horror    Very Popular  2022          0  "
      ]
     },
     "execution_count": 4,
     "metadata": {},
     "output_type": "execute_result"
    }
   ],
   "source": [
    "df.head()"
   ]
  },
  {
   "cell_type": "code",
   "execution_count": 5,
   "id": "ebe619b8",
   "metadata": {},
   "outputs": [],
   "source": [
    "df['release_date'] = pd.to_datetime(df['release_date'])\n",
    "df['month'] = df['release_date'].apply(lambda x:x.month)"
   ]
  },
  {
   "cell_type": "code",
   "execution_count": 6,
   "id": "dcf76375",
   "metadata": {},
   "outputs": [
    {
     "data": {
      "text/html": [
       "<div>\n",
       "<style scoped>\n",
       "    .dataframe tbody tr th:only-of-type {\n",
       "        vertical-align: middle;\n",
       "    }\n",
       "\n",
       "    .dataframe tbody tr th {\n",
       "        vertical-align: top;\n",
       "    }\n",
       "\n",
       "    .dataframe thead th {\n",
       "        text-align: right;\n",
       "    }\n",
       "</style>\n",
       "<table border=\"1\" class=\"dataframe\">\n",
       "  <thead>\n",
       "    <tr style=\"text-align: right;\">\n",
       "      <th></th>\n",
       "      <th>id</th>\n",
       "      <th>title</th>\n",
       "      <th>original_language</th>\n",
       "      <th>overview</th>\n",
       "      <th>tagline</th>\n",
       "      <th>release_date</th>\n",
       "      <th>popularity</th>\n",
       "      <th>vote_count</th>\n",
       "      <th>vote_average</th>\n",
       "      <th>budget</th>\n",
       "      <th>revenue</th>\n",
       "      <th>runtime</th>\n",
       "      <th>status</th>\n",
       "      <th>adult</th>\n",
       "      <th>genre_names</th>\n",
       "      <th>popularity_rank</th>\n",
       "      <th>year</th>\n",
       "      <th>profit</th>\n",
       "      <th>month</th>\n",
       "    </tr>\n",
       "  </thead>\n",
       "  <tbody>\n",
       "    <tr>\n",
       "      <th>0</th>\n",
       "      <td>760161</td>\n",
       "      <td>Orphan: First Kill</td>\n",
       "      <td>en</td>\n",
       "      <td>After escaping from an Estonian psychiatric fa...</td>\n",
       "      <td>There's always been something wrong with Esther.</td>\n",
       "      <td>2022-07-27</td>\n",
       "      <td>5089</td>\n",
       "      <td>902</td>\n",
       "      <td>6.9</td>\n",
       "      <td>0</td>\n",
       "      <td>9572765</td>\n",
       "      <td>99</td>\n",
       "      <td>Released</td>\n",
       "      <td>False</td>\n",
       "      <td>Horror, Thriller</td>\n",
       "      <td>Very Popular</td>\n",
       "      <td>2022</td>\n",
       "      <td>0</td>\n",
       "      <td>7</td>\n",
       "    </tr>\n",
       "    <tr>\n",
       "      <th>1</th>\n",
       "      <td>760741</td>\n",
       "      <td>Beast</td>\n",
       "      <td>en</td>\n",
       "      <td>A recently widowed man and his two teenage dau...</td>\n",
       "      <td>Fight for family.</td>\n",
       "      <td>2022-08-11</td>\n",
       "      <td>2172</td>\n",
       "      <td>584</td>\n",
       "      <td>7.1</td>\n",
       "      <td>0</td>\n",
       "      <td>56000000</td>\n",
       "      <td>93</td>\n",
       "      <td>Released</td>\n",
       "      <td>False</td>\n",
       "      <td>Adventure, Drama, Horror</td>\n",
       "      <td>Very Popular</td>\n",
       "      <td>2022</td>\n",
       "      <td>0</td>\n",
       "      <td>8</td>\n",
       "    </tr>\n",
       "    <tr>\n",
       "      <th>2</th>\n",
       "      <td>882598</td>\n",
       "      <td>Smile</td>\n",
       "      <td>en</td>\n",
       "      <td>After witnessing a bizarre, traumatic incident...</td>\n",
       "      <td>Once you see it, it’s too late.</td>\n",
       "      <td>2022-09-23</td>\n",
       "      <td>1864</td>\n",
       "      <td>114</td>\n",
       "      <td>6.8</td>\n",
       "      <td>17000000</td>\n",
       "      <td>45000000</td>\n",
       "      <td>115</td>\n",
       "      <td>Released</td>\n",
       "      <td>False</td>\n",
       "      <td>Horror, Mystery, Thriller</td>\n",
       "      <td>Very Popular</td>\n",
       "      <td>2022</td>\n",
       "      <td>28000000</td>\n",
       "      <td>9</td>\n",
       "    </tr>\n",
       "    <tr>\n",
       "      <th>3</th>\n",
       "      <td>756999</td>\n",
       "      <td>The Black Phone</td>\n",
       "      <td>en</td>\n",
       "      <td>Finney Blake, a shy but clever 13-year-old boy...</td>\n",
       "      <td>Never talk to strangers.</td>\n",
       "      <td>2022-06-22</td>\n",
       "      <td>1071</td>\n",
       "      <td>2736</td>\n",
       "      <td>7.9</td>\n",
       "      <td>18800000</td>\n",
       "      <td>161000000</td>\n",
       "      <td>103</td>\n",
       "      <td>Released</td>\n",
       "      <td>False</td>\n",
       "      <td>Horror, Thriller</td>\n",
       "      <td>Very Popular</td>\n",
       "      <td>2022</td>\n",
       "      <td>142200000</td>\n",
       "      <td>6</td>\n",
       "    </tr>\n",
       "    <tr>\n",
       "      <th>4</th>\n",
       "      <td>772450</td>\n",
       "      <td>Presences</td>\n",
       "      <td>es</td>\n",
       "      <td>A man who loses his wife and goes to seclude h...</td>\n",
       "      <td>NaN</td>\n",
       "      <td>2022-09-07</td>\n",
       "      <td>1021</td>\n",
       "      <td>83</td>\n",
       "      <td>7.0</td>\n",
       "      <td>0</td>\n",
       "      <td>0</td>\n",
       "      <td>0</td>\n",
       "      <td>Released</td>\n",
       "      <td>False</td>\n",
       "      <td>Horror</td>\n",
       "      <td>Very Popular</td>\n",
       "      <td>2022</td>\n",
       "      <td>0</td>\n",
       "      <td>9</td>\n",
       "    </tr>\n",
       "  </tbody>\n",
       "</table>\n",
       "</div>"
      ],
      "text/plain": [
       "       id               title original_language  \\\n",
       "0  760161  Orphan: First Kill                en   \n",
       "1  760741               Beast                en   \n",
       "2  882598               Smile                en   \n",
       "3  756999     The Black Phone                en   \n",
       "4  772450           Presences                es   \n",
       "\n",
       "                                            overview  \\\n",
       "0  After escaping from an Estonian psychiatric fa...   \n",
       "1  A recently widowed man and his two teenage dau...   \n",
       "2  After witnessing a bizarre, traumatic incident...   \n",
       "3  Finney Blake, a shy but clever 13-year-old boy...   \n",
       "4  A man who loses his wife and goes to seclude h...   \n",
       "\n",
       "                                            tagline release_date  popularity  \\\n",
       "0  There's always been something wrong with Esther.   2022-07-27        5089   \n",
       "1                                 Fight for family.   2022-08-11        2172   \n",
       "2                   Once you see it, it’s too late.   2022-09-23        1864   \n",
       "3                          Never talk to strangers.   2022-06-22        1071   \n",
       "4                                               NaN   2022-09-07        1021   \n",
       "\n",
       "   vote_count  vote_average    budget    revenue  runtime    status  adult  \\\n",
       "0         902           6.9         0    9572765       99  Released  False   \n",
       "1         584           7.1         0   56000000       93  Released  False   \n",
       "2         114           6.8  17000000   45000000      115  Released  False   \n",
       "3        2736           7.9  18800000  161000000      103  Released  False   \n",
       "4          83           7.0         0          0        0  Released  False   \n",
       "\n",
       "                 genre_names popularity_rank  year     profit  month  \n",
       "0           Horror, Thriller    Very Popular  2022          0      7  \n",
       "1   Adventure, Drama, Horror    Very Popular  2022          0      8  \n",
       "2  Horror, Mystery, Thriller    Very Popular  2022   28000000      9  \n",
       "3           Horror, Thriller    Very Popular  2022  142200000      6  \n",
       "4                     Horror    Very Popular  2022          0      9  "
      ]
     },
     "execution_count": 6,
     "metadata": {},
     "output_type": "execute_result"
    }
   ],
   "source": [
    "df.head()"
   ]
  },
  {
   "cell_type": "markdown",
   "id": "23b9e5e1",
   "metadata": {},
   "source": [
    "#### Examples of what we want to do!"
   ]
  },
  {
   "cell_type": "markdown",
   "id": "f2399815",
   "metadata": {},
   "source": [
    "**Matplotlib**"
   ]
  },
  {
   "cell_type": "code",
   "execution_count": null,
   "id": "cc97fcca",
   "metadata": {},
   "outputs": [],
   "source": [
    "import matplotlib.pyplot as plt\n",
    "import numpy as np"
   ]
  },
  {
   "cell_type": "code",
   "execution_count": null,
   "id": "58ba62de",
   "metadata": {},
   "outputs": [],
   "source": [
    "mnt = dict(sorted(dict(df['month'].value_counts()).items()))\n",
    "mnt"
   ]
  },
  {
   "cell_type": "code",
   "execution_count": null,
   "id": "e08eed74",
   "metadata": {},
   "outputs": [],
   "source": [
    "mnt_num = list(mnt.keys())\n",
    "release_count = list(mnt.values())"
   ]
  },
  {
   "cell_type": "code",
   "execution_count": null,
   "id": "56b47a9e",
   "metadata": {},
   "outputs": [],
   "source": [
    "fig = plt.figure(figsize=(9, 5))\n",
    "plt.barh(mnt_num, release_count, color='maroon')\n",
    "plt.yticks(np.arange(1, 13, step=1))\n",
    "plt.xlabel(\"Number of Movie Released\")\n",
    "plt.grid(axis='x')\n",
    "plt.ylabel(\"Month Number\")\n",
    "plt.title(\"Movies Released per Month\")\n",
    "plt.show()"
   ]
  },
  {
   "cell_type": "markdown",
   "id": "414a8c8c",
   "metadata": {},
   "source": [
    "**Seaborn**"
   ]
  },
  {
   "cell_type": "code",
   "execution_count": null,
   "id": "83b1914a",
   "metadata": {},
   "outputs": [],
   "source": [
    "import seaborn as sns"
   ]
  },
  {
   "cell_type": "code",
   "execution_count": null,
   "id": "4ab6e282",
   "metadata": {},
   "outputs": [],
   "source": [
    "sns_df = pd.DataFrame(index=mnt_num, data=release_count)\n",
    "sns_df.reset_index(inplace=True)\n",
    "sns_df.columns = ['Month', 'Release']\n",
    "sns_df"
   ]
  },
  {
   "cell_type": "code",
   "execution_count": null,
   "id": "c54a8d36",
   "metadata": {},
   "outputs": [],
   "source": [
    "sns.set_style(\"darkgrid\", {\"grid.color\": \".2\", \"grid.linestyle\": \":\"})\n",
    "# palette{deep, muted, pastel, dark, bright, colorblind}\n",
    "s = sns.barplot(x = \"Release\", y = \"Month\", data = sns_df, orient = 'h', color=\"maroon\")\n",
    "s.set_ylabel(\"Month Number\")\n",
    "s.set_title(\"Movies Released per Month\")"
   ]
  },
  {
   "cell_type": "markdown",
   "id": "3db3ca09",
   "metadata": {},
   "source": [
    "**Plotly**"
   ]
  },
  {
   "cell_type": "code",
   "execution_count": null,
   "id": "3b350df2",
   "metadata": {},
   "outputs": [],
   "source": [
    "import plotly.express as px"
   ]
  },
  {
   "cell_type": "code",
   "execution_count": null,
   "id": "d3d106fa",
   "metadata": {},
   "outputs": [],
   "source": [
    "fig = px.bar(sns_df, x = \"Release\", y = \"Month\", orientation = 'h').update_layout(\n",
    "    xaxis_title=\"Movies Released per Month\", yaxis_title=\"Month Number\"\n",
    ")\n",
    "fig.show()"
   ]
  },
  {
   "cell_type": "markdown",
   "id": "9a3dffcb",
   "metadata": {},
   "source": [
    "### Why should I learn Matplotlib ?\n",
    "**Excerpts from Seaborn's Documentation**\n",
    "\n",
    "` While you can be productive using only seaborn functions, full customization of your graphics will require some knowledge of matplotlib’s concepts and API. One aspect of the learning curve for new users of seaborn will be knowing when dropping down to the matplotlib layer is necessary to achieve a particular customization. On the other hand, users coming from matplotlib will find that much of their knowledge transfers.`"
   ]
  },
  {
   "cell_type": "markdown",
   "id": "e1114300",
   "metadata": {},
   "source": [
    "### Matplotlib"
   ]
  },
  {
   "cell_type": "markdown",
   "id": "a15efa47",
   "metadata": {},
   "source": [
    "\n",
    "- Matplotlib is very fundamental\n",
    "- Seaborn is built on it\n",
    "- There are dashboards such as Plotly and so on\n"
   ]
  },
  {
   "cell_type": "code",
   "execution_count": null,
   "id": "d5666d29",
   "metadata": {},
   "outputs": [],
   "source": [
    "import matplotlib.pyplot as plt"
   ]
  },
  {
   "cell_type": "markdown",
   "id": "8bb71bae",
   "metadata": {},
   "source": [
    "- **Figure**: The overall container for the plot. A figure can contain multiplesubplots or axes.\n",
    "\n",
    "- **Axes**: The area where the data is plotted. An axe can contain one or moreplots, such as lines, bars, or scatter points.\n",
    "\n",
    "- **Title**: The title of the plot, usually located at the top of the plot.\n",
    "- **X-axis and Y-axis:** The horizontal and vertical axes, respectively, that define the coordinate system for the data.\n",
    "\n",
    "- **X-axis Label and Y-axis Label**: The labels for the X-axis and Y-axis,respectively, that describe the data being plotted.\n",
    "\n",
    "- **Ticks**: The marks on the X-axis and Y-axis that represent the values ofthe data.\n",
    "\n",
    "- **Tick Labels**: The labels for the ticks that display the values associatedwith the data.\n",
    "\n",
    "- **Legends**: A key that explains the meaning of different markers or colorsin the plot.\n",
    "\n",
    "- **Gridlines**: The lines that divide the plot into smaller units and make iteasier to read the data.\n"
   ]
  },
  {
   "cell_type": "markdown",
   "id": "eae41b36",
   "metadata": {},
   "source": [
    "- Matplotlib graphs your data on **Figures**, each of which can **contain one or more Axes**, an area where points can be specified in terms of x-y coordinates (or theta-r in a polar plot, x-y-z in a 3D plot, etc.)."
   ]
  },
  {
   "cell_type": "code",
   "execution_count": null,
   "id": "7d2e8ef6",
   "metadata": {},
   "outputs": [],
   "source": [
    "fig = plt.figure(figsize=(11,7), facecolor='lightskyblue', layout='constrained')\n",
    "fig.suptitle('Figure')\n",
    "ax = fig.add_subplot()\n",
    "ax.set_title('Axes', loc='left', fontstyle='oblique', fontsize='large')\n",
    "plt.show()"
   ]
  },
  {
   "cell_type": "markdown",
   "id": "1880d938",
   "metadata": {},
   "source": [
    "!['Figure Anatomy'](matplt.png)"
   ]
  },
  {
   "cell_type": "markdown",
   "id": "68544fc1",
   "metadata": {},
   "source": [
    "` generating dummy data for explanation `"
   ]
  },
  {
   "cell_type": "code",
   "execution_count": null,
   "id": "08a49492",
   "metadata": {},
   "outputs": [],
   "source": [
    "np.cumsum([2,34,66,7,90])"
   ]
  },
  {
   "cell_type": "code",
   "execution_count": null,
   "id": "dfb3607c",
   "metadata": {},
   "outputs": [],
   "source": [
    "np.random.randn(200)"
   ]
  },
  {
   "cell_type": "code",
   "execution_count": null,
   "id": "a35f46d8",
   "metadata": {},
   "outputs": [],
   "source": [
    "np.random.seed(19680801)\n",
    "t = np.arange(200)\n",
    "x = np.cumsum(np.random.randn(200))\n",
    "y = np.cumsum(np.random.randn(200))"
   ]
  },
  {
   "cell_type": "code",
   "execution_count": null,
   "id": "0897a89f",
   "metadata": {},
   "outputs": [],
   "source": [
    "y"
   ]
  },
  {
   "cell_type": "markdown",
   "id": "0c49264f",
   "metadata": {},
   "source": [
    "**Two Plots on a different axes**"
   ]
  },
  {
   "cell_type": "code",
   "execution_count": null,
   "id": "1a727c56",
   "metadata": {},
   "outputs": [],
   "source": [
    "fig, axs = plt.subplots(ncols=2, nrows=2, figsize=(12, 6), layout=\"constrained\")\n",
    "\n",
    "axs[1][0].plot(t, x)\n",
    "axs[1,1].plot(t, y)\n",
    "\n",
    "# You can address each subplot directly\n",
    "axs[1,1].set_xlabel(\"number\")\n",
    "axs[1,0].set_xlabel(\"my number\")"
   ]
  },
  {
   "cell_type": "markdown",
   "id": "0e7d9b5f",
   "metadata": {},
   "source": [
    "**Two Plots on a Single axe**"
   ]
  },
  {
   "cell_type": "code",
   "execution_count": null,
   "id": "6b769744",
   "metadata": {},
   "outputs": [],
   "source": [
    "fig, ax = plt.subplots(figsize=(5, 3), layout='constrained')\n",
    "\n",
    "linesx = ax.plot(t, x, label='Random walk x', color='r')\n",
    "linesy = ax.plot(t, y, label='Random walk y')\n",
    "\n",
    "ax.set_xlabel('Time [s]')\n",
    "ax.set_ylabel('Distance [km]')\n",
    "ax.set_title('Random walk example')\n",
    "ax.legend(loc='lower right')"
   ]
  },
  {
   "cell_type": "markdown",
   "id": "afacb212",
   "metadata": {},
   "source": [
    "**Axes limits, scales, and ticking**"
   ]
  },
  {
   "cell_type": "code",
   "execution_count": null,
   "id": "b1003e57",
   "metadata": {},
   "outputs": [],
   "source": [
    "fig, ax = plt.subplots(figsize=(12, 6.5), layout='constrained')\n",
    "\n",
    "np.random.seed(19680801)\n",
    "t = np.arange(200)\n",
    "x = 2**np.cumsum(np.random.randn(200))\n",
    "\n",
    "\n",
    "linesx = ax.plot(t, x)\n",
    "ax.set_yscale('log')\n",
    "ax.set_xlim([10, 180])\n",
    "\n",
    "ax.annotate('Minimum', xy=(140, 0.1), xytext=(70, 103),\n",
    "            arrowprops=dict(facecolor='green'))"
   ]
  },
  {
   "cell_type": "markdown",
   "id": "c50610e2",
   "metadata": {},
   "source": [
    "**Axes Layout**"
   ]
  },
  {
   "cell_type": "code",
   "execution_count": null,
   "id": "551fc0bd",
   "metadata": {},
   "outputs": [],
   "source": [
    "fig, axs = plt.subplots(ncols=3, figsize=(10, 4.5), layout='constrained')\n",
    "\n",
    "np.random.seed(19680801)\n",
    "t = np.arange(200)\n",
    "x = np.cumsum(np.random.randn(200))\n",
    "\n",
    "\n",
    "axs[0].plot(t, x)\n",
    "axs[0].set_title('aspect=\"auto\"')\n",
    "\n",
    "axs[1].plot(t, x)\n",
    "axs[1].set_aspect(2)\n",
    "axs[1].set_title('aspect=5')"
   ]
  },
  {
   "cell_type": "code",
   "execution_count": null,
   "id": "47b86a12",
   "metadata": {},
   "outputs": [],
   "source": [
    "df"
   ]
  },
  {
   "cell_type": "code",
   "execution_count": null,
   "id": "976dae35",
   "metadata": {},
   "outputs": [],
   "source": [
    "df['vote_average'][:200].values"
   ]
  },
  {
   "cell_type": "code",
   "execution_count": null,
   "id": "a4108331",
   "metadata": {},
   "outputs": [],
   "source": [
    "fig, ax1 = plt.subplots(figsize=(10, 4.5), layout='constrained')\n",
    "x = df['vote_average'][:200].values\n",
    "z = df['runtime'][:200].values\n",
    "\n",
    "ax1.plot(t, x, label='Vote Average', color='blue')\n",
    "ax1.set_ylabel(\"Vote Average\", color='blue')\n",
    "ax1.tick_params(axis='y', labelcolor='blue')\n",
    "\n",
    "ax2 = ax1.twinx()\n",
    "\n",
    "ax2.plot(t, z, label='Runtime', color = 'orange')\n",
    "ax2.set_ylabel(\"Runtime\", color ='orange')\n",
    "ax2.tick_params(axis='y', labelcolor='orange')\n"
   ]
  },
  {
   "cell_type": "markdown",
   "id": "02432472",
   "metadata": {},
   "source": [
    "## Seaborn"
   ]
  },
  {
   "cell_type": "code",
   "execution_count": null,
   "id": "bb148d95",
   "metadata": {},
   "outputs": [],
   "source": [
    "import seaborn as sns\n",
    "import pandas as pd"
   ]
  },
  {
   "cell_type": "markdown",
   "id": "802a92fb",
   "metadata": {},
   "source": [
    "**Seaborn is a library for making statistical graphics in Python. It builds on top of matplotlib and integrates closely with pandas data structures.**"
   ]
  },
  {
   "cell_type": "code",
   "execution_count": null,
   "id": "afbcb535",
   "metadata": {},
   "outputs": [],
   "source": [
    "df.head()"
   ]
  },
  {
   "cell_type": "code",
   "execution_count": null,
   "id": "a410b503",
   "metadata": {},
   "outputs": [],
   "source": [
    "# Create a visualization\n",
    "sns.relplot(\n",
    "    data=df,\n",
    "    x=\"vote_average\", y=\"vote_count\"\n",
    ")"
   ]
  },
  {
   "cell_type": "code",
   "execution_count": null,
   "id": "71431631",
   "metadata": {},
   "outputs": [],
   "source": [
    "# Create a visualization\n",
    "sns.relplot(\n",
    "    data=df,\n",
    "    x=\"vote_average\", y=\"vote_count\", col=\"popularity_rank\", \n",
    ")"
   ]
  },
  {
   "cell_type": "markdown",
   "id": "4946daba",
   "metadata": {},
   "source": [
    "#### color mappings\n",
    "- ` Distinct colors are used when your hue is categorical `\n",
    "- ` When mapping a numeric variable, some functions will switch to a continuous gradient `"
   ]
  },
  {
   "cell_type": "code",
   "execution_count": null,
   "id": "2ac1a466",
   "metadata": {},
   "outputs": [],
   "source": [
    "# Create a visualization\n",
    "sns.relplot(\n",
    "    data=df,\n",
    "    x=\"vote_average\", y=\"vote_count\", hue=\"popularity_rank\", \n",
    ")"
   ]
  },
  {
   "cell_type": "code",
   "execution_count": null,
   "id": "40365c64",
   "metadata": {},
   "outputs": [],
   "source": [
    "# Create a visualization\n",
    "sns.relplot(\n",
    "    data=df,\n",
    "    x=\"vote_average\", y=\"vote_count\", hue=\"budget\", \n",
    ")"
   ]
  },
  {
   "cell_type": "markdown",
   "id": "d8488071",
   "metadata": {},
   "source": [
    "### How farther can I go with Seaborn ??"
   ]
  },
  {
   "cell_type": "markdown",
   "id": "65236409",
   "metadata": {},
   "source": [
    "!['Classification of Seaborn Functions'](sea_plot.png)"
   ]
  },
  {
   "cell_type": "markdown",
   "id": "8f1815ef",
   "metadata": {},
   "source": [
    "**Histplot**"
   ]
  },
  {
   "cell_type": "code",
   "execution_count": null,
   "id": "513f311d",
   "metadata": {},
   "outputs": [],
   "source": [
    "df.status.value_counts()"
   ]
  },
  {
   "cell_type": "code",
   "execution_count": null,
   "id": "ffe77610",
   "metadata": {},
   "outputs": [],
   "source": [
    "df.popularity_rank.value_counts()"
   ]
  },
  {
   "cell_type": "markdown",
   "id": "5629ae33",
   "metadata": {},
   "source": [
    "` Sometimes you need to work on your scale `"
   ]
  },
  {
   "cell_type": "code",
   "execution_count": null,
   "id": "eeba0bad",
   "metadata": {},
   "outputs": [],
   "source": [
    "g = sns.histplot(\n",
    "        data=df, x=\"status\", hue=\"popularity_rank\", multiple=\"stack\"\n",
    ")\n",
    "g.tick_params(axis='x', rotation=40)"
   ]
  },
  {
   "cell_type": "code",
   "execution_count": null,
   "id": "ea2bbb21",
   "metadata": {},
   "outputs": [],
   "source": [
    "g = sns.histplot(\n",
    "        data=df, x=\"status\", hue=\"popularity_rank\"\n",
    ")\n",
    "g.set_yscale('log')"
   ]
  },
  {
   "cell_type": "markdown",
   "id": "6e1e639c",
   "metadata": {},
   "source": [
    "**Displot**"
   ]
  },
  {
   "cell_type": "code",
   "execution_count": null,
   "id": "8f601c31",
   "metadata": {},
   "outputs": [],
   "source": [
    "sns.displot(data=df, x=\"runtime\", hue = 'month', kde=True)\n",
    "plt.xscale('log')"
   ]
  },
  {
   "cell_type": "code",
   "execution_count": null,
   "id": "5767c4f6",
   "metadata": {},
   "outputs": [],
   "source": [
    "sns.displot(data=df, x=\"runtime\", col='popularity_rank')"
   ]
  },
  {
   "cell_type": "code",
   "execution_count": null,
   "id": "e618c9ee",
   "metadata": {},
   "outputs": [],
   "source": [
    "sns.displot(data=df, x=\"runtime\", hue='month',  kde=True,multiple='stack')"
   ]
  },
  {
   "cell_type": "markdown",
   "id": "d70cd606",
   "metadata": {},
   "source": [
    "**kernel density estimation**"
   ]
  },
  {
   "cell_type": "code",
   "execution_count": null,
   "id": "efbc8fc3",
   "metadata": {},
   "outputs": [],
   "source": [
    "sns.kdeplot(data=df, x=\"runtime\", hue = 'month')\n",
    "plt.xscale('log')"
   ]
  },
  {
   "cell_type": "markdown",
   "id": "894b8fff",
   "metadata": {},
   "source": [
    "**Count Plot**"
   ]
  },
  {
   "cell_type": "code",
   "execution_count": null,
   "id": "7b68e454",
   "metadata": {},
   "outputs": [],
   "source": [
    "plt.figure(figsize=(13,8))\n",
    "\n",
    "f = sns.countplot(data=df,  x=\"year\", color='green')\n",
    "f.tick_params(axis='x', rotation=80)\n",
    "f.tick_params(labelsize=9)\n",
    "\n",
    "plt.savefig(\"year_dist.png\", dpi=300)"
   ]
  },
  {
   "cell_type": "code",
   "execution_count": null,
   "id": "4b2cce03",
   "metadata": {},
   "outputs": [],
   "source": []
  },
  {
   "cell_type": "markdown",
   "id": "760b9b1a",
   "metadata": {},
   "source": [
    "**Strip Plot**"
   ]
  },
  {
   "cell_type": "code",
   "execution_count": null,
   "id": "e4d6262f",
   "metadata": {},
   "outputs": [],
   "source": [
    "plt.figure(figsize=(12,8))\n",
    "sns.stripplot(x= 'popularity_rank', y='vote_count', data= df, split=True)\n",
    "plt.title('Popularity Rank by Vote Count')\n",
    "plt.savefig(\"stripplt.png\", dpi=300)"
   ]
  },
  {
   "cell_type": "markdown",
   "id": "8e08cdb5",
   "metadata": {},
   "source": [
    "**Joint Plot**"
   ]
  },
  {
   "cell_type": "code",
   "execution_count": null,
   "id": "faf5171f",
   "metadata": {},
   "outputs": [],
   "source": [
    "plt.figure(figsize=(12,14))\n",
    "sns.jointplot(data=df,  x=\"vote_count\", y= 'vote_average', hue='popularity_rank')"
   ]
  },
  {
   "cell_type": "markdown",
   "id": "2e2819e2",
   "metadata": {},
   "source": [
    "### We stopped here 06-04-2024"
   ]
  },
  {
   "cell_type": "markdown",
   "id": "7da3193c",
   "metadata": {},
   "source": [
    "**Catplot**"
   ]
  },
  {
   "cell_type": "code",
   "execution_count": null,
   "id": "43395bd9",
   "metadata": {},
   "outputs": [],
   "source": [
    "df.groupby(['year', 'month']).size()"
   ]
  },
  {
   "cell_type": "code",
   "execution_count": null,
   "id": "67e01fc0",
   "metadata": {},
   "outputs": [],
   "source": [
    "cat_df = df.groupby(['year', 'month']).size().unstack()\n",
    "cat_df.replace(np.nan, 0, inplace=True)\n",
    "cat_df"
   ]
  },
  {
   "cell_type": "code",
   "execution_count": null,
   "id": "0a6e31c3",
   "metadata": {},
   "outputs": [],
   "source": [
    "sns.catplot(data=cat_df, kind=\"box\")"
   ]
  },
  {
   "cell_type": "code",
   "execution_count": null,
   "id": "dd2c31b5",
   "metadata": {},
   "outputs": [],
   "source": [
    "## Profit\n",
    "\n",
    "cat_profit_df = df.groupby(['year', 'month']).agg({'profit': 'sum'})\n",
    "cat_profit_df"
   ]
  },
  {
   "cell_type": "code",
   "execution_count": null,
   "id": "518f117a",
   "metadata": {},
   "outputs": [],
   "source": [
    "cat_profit_df = cat_profit_df.unstack()\n",
    "cat_profit_df.replace(np.nan, 0, inplace=True)"
   ]
  },
  {
   "cell_type": "code",
   "execution_count": null,
   "id": "49f43ea7",
   "metadata": {},
   "outputs": [],
   "source": [
    "cat_profit_df.columns = np.arange(1,13)"
   ]
  },
  {
   "cell_type": "code",
   "execution_count": null,
   "id": "157525c5",
   "metadata": {},
   "outputs": [],
   "source": [
    "cat_profit_df"
   ]
  },
  {
   "cell_type": "code",
   "execution_count": null,
   "id": "34b80ed5",
   "metadata": {},
   "outputs": [],
   "source": [
    "sns.catplot(data=cat_profit_df, kind=\"box\")"
   ]
  },
  {
   "cell_type": "markdown",
   "id": "d959760d",
   "metadata": {},
   "source": [
    "**Relplot/Lineplot**"
   ]
  },
  {
   "cell_type": "code",
   "execution_count": null,
   "id": "2b4c4eb2",
   "metadata": {},
   "outputs": [],
   "source": [
    "sns.lineplot(data = cat_profit_df)"
   ]
  },
  {
   "cell_type": "code",
   "execution_count": null,
   "id": "62027723",
   "metadata": {},
   "outputs": [],
   "source": [
    "sns.relplot(data=df, x=\"year\", y=\"profit\", hue=\"month\", kind=\"line\")"
   ]
  },
  {
   "cell_type": "markdown",
   "id": "c922ab3a",
   "metadata": {},
   "source": [
    "### Doing Subplot in Seaborn"
   ]
  },
  {
   "cell_type": "code",
   "execution_count": null,
   "id": "7e77db0f",
   "metadata": {},
   "outputs": [],
   "source": [
    "f, axs = plt.subplots(1, 2, figsize=(12, 6), gridspec_kw=dict(width_ratios=[4, 3]))\n",
    "\n",
    "sns.countplot(data=df,  x=\"month\", color='green', ax=axs[0])\n",
    "axs[0].tick_params(axis='x', rotation=80)\n",
    "axs[0].tick_params(labelsize=9)\n",
    "\n",
    "sns.scatterplot(data=df,  x=\"revenue\", y= 'profit', hue=\"month\", ax=axs[1])\n",
    "\n",
    "f.tight_layout()"
   ]
  },
  {
   "cell_type": "markdown",
   "id": "e5a3b3d4",
   "metadata": {},
   "source": [
    "# Plotly"
   ]
  },
  {
   "cell_type": "markdown",
   "id": "c2bb8640",
   "metadata": {},
   "source": [
    "**Plotly's Python graphing library makes interactive, publication-quality graphs. Examples of how to make line plots, scatter plots, area charts, bar charts, error bars, box plots, histograms, heatmaps, subplots, multiple-axes, polar charts, and bubble charts.**"
   ]
  },
  {
   "cell_type": "markdown",
   "id": "a9614a7a",
   "metadata": {},
   "source": [
    "## Basic Plots"
   ]
  },
  {
   "cell_type": "markdown",
   "id": "af3cf92b",
   "metadata": {},
   "source": [
    "### Line Plot"
   ]
  },
  {
   "cell_type": "code",
   "execution_count": null,
   "id": "bce4e104",
   "metadata": {},
   "outputs": [],
   "source": [
    "import plotly.express as px\n",
    "import plotly.offline as pyo"
   ]
  },
  {
   "cell_type": "markdown",
   "id": "216b599f",
   "metadata": {},
   "source": [
    "**With px.scatter, each data point is represented as a marker point, whose location is given by the x and y columns.**"
   ]
  },
  {
   "cell_type": "code",
   "execution_count": null,
   "id": "73414836",
   "metadata": {},
   "outputs": [],
   "source": [
    "fig = px.line(df, x=\"popularity\", y=\"revenue\", title='Profit and Revenue')\n",
    "fig.show()"
   ]
  },
  {
   "cell_type": "code",
   "execution_count": null,
   "id": "622b941f",
   "metadata": {},
   "outputs": [],
   "source": [
    "# Let us compare with Matplotlib\n",
    "plt.plot(df.revenue)"
   ]
  },
  {
   "cell_type": "code",
   "execution_count": null,
   "id": "e140c461",
   "metadata": {},
   "outputs": [],
   "source": [
    "fig = px.line(df,  y=\"revenue\")\n",
    "fig.show()"
   ]
  },
  {
   "cell_type": "code",
   "execution_count": null,
   "id": "9bc4219a",
   "metadata": {},
   "outputs": [],
   "source": [
    "# Or this other way\n",
    "pyo.plot([{\n",
    "    'x' : df.index,\n",
    "    'y' : df.revenue\n",
    "}])"
   ]
  },
  {
   "cell_type": "code",
   "execution_count": null,
   "id": "156e4bb9",
   "metadata": {},
   "outputs": [],
   "source": [
    "sns.lineplot(data=df, x=\"popularity\", y=\"revenue\", hue='popularity_rank')"
   ]
  },
  {
   "cell_type": "code",
   "execution_count": null,
   "id": "c1811a6d",
   "metadata": {},
   "outputs": [],
   "source": [
    "# Another angle to it\n",
    "fig = px.line(df, x=\"popularity\", y=\"revenue\", color='popularity_rank', title='Popularity and Revenue')\n",
    "fig.show()"
   ]
  },
  {
   "cell_type": "code",
   "execution_count": null,
   "id": "c6b3ac6d",
   "metadata": {},
   "outputs": [],
   "source": [
    "rev_st = df[['profit', 'revenue']]"
   ]
  },
  {
   "cell_type": "code",
   "execution_count": null,
   "id": "ac5587a4",
   "metadata": {},
   "outputs": [],
   "source": [
    "rev_st"
   ]
  },
  {
   "cell_type": "code",
   "execution_count": null,
   "id": "f2a136ac",
   "metadata": {},
   "outputs": [],
   "source": [
    "# Plot all columns on a figure\n",
    "pyo.plot([{\n",
    "    'x' : rev_st.index,\n",
    "    'y' : rev_st[col],\n",
    "    'name' : col\n",
    "    # For legend\n",
    "} for col in rev_st.columns])"
   ]
  },
  {
   "cell_type": "markdown",
   "id": "6ed33d48",
   "metadata": {},
   "source": [
    "### Scatter Plot"
   ]
  },
  {
   "cell_type": "code",
   "execution_count": null,
   "id": "2d6ac0e8",
   "metadata": {},
   "outputs": [],
   "source": [
    "fig = px.scatter(rev_st, x=\"profit\", y=\"revenue\")\n",
    "fig.show()"
   ]
  },
  {
   "cell_type": "code",
   "execution_count": null,
   "id": "644f9be0",
   "metadata": {},
   "outputs": [],
   "source": [
    "import plotly.graph_objs as go"
   ]
  },
  {
   "cell_type": "code",
   "execution_count": null,
   "id": "04acc52b",
   "metadata": {},
   "outputs": [],
   "source": [
    "# Modify plot to your taste\n",
    "pyo.plot([\n",
    "    go.Scatter(\n",
    "        x = rev_st.profit,\n",
    "        y = rev_st.revenue,\n",
    "        mode = 'markers',\n",
    "        marker = dict(\n",
    "            size = 14,\n",
    "            color = 'rgb(23,122,231)',\n",
    "            symbol = 'square'\n",
    "        )\n",
    "    )\n",
    "])"
   ]
  },
  {
   "cell_type": "markdown",
   "id": "4e739a27",
   "metadata": {},
   "source": [
    "### Bubble Chart"
   ]
  },
  {
   "cell_type": "code",
   "execution_count": null,
   "id": "07c63292",
   "metadata": {
    "scrolled": true
   },
   "outputs": [],
   "source": [
    "fig = px.scatter(df.query(\"year==2022\"), x=\"popularity\", y=\"revenue\",\n",
    "         size=\"vote_count\", color=\"popularity_rank\",\n",
    "                 hover_name=\"vote_count\", size_max=60)\n",
    "fig.show()"
   ]
  },
  {
   "cell_type": "markdown",
   "id": "705a906d",
   "metadata": {},
   "source": [
    "### SunBurst"
   ]
  },
  {
   "cell_type": "markdown",
   "id": "9b060b42",
   "metadata": {},
   "source": [
    "!['Sun Burst'](sunburst.png)"
   ]
  },
  {
   "cell_type": "code",
   "execution_count": null,
   "id": "4d007636",
   "metadata": {},
   "outputs": [],
   "source": [
    "fig = px.sunburst(df, path=['popularity','vote_average'], values='revenue', color='popularity_rank')\n",
    "fig.show()"
   ]
  },
  {
   "cell_type": "markdown",
   "id": "a66be1d9",
   "metadata": {},
   "source": [
    "### Bar Plot"
   ]
  },
  {
   "cell_type": "code",
   "execution_count": null,
   "id": "4e371d04",
   "metadata": {},
   "outputs": [],
   "source": [
    "df.head()"
   ]
  },
  {
   "cell_type": "code",
   "execution_count": null,
   "id": "0d9a110c",
   "metadata": {},
   "outputs": [],
   "source": [
    "px.histogram(df, x=\"month\", color=\"status\", barmode='group')"
   ]
  },
  {
   "cell_type": "code",
   "execution_count": null,
   "id": "f184d8a1",
   "metadata": {},
   "outputs": [],
   "source": [
    "# You have to aggregate your data\n",
    "popularity_rk = pd.pivot_table(df, values = 'profit', index = 'popularity_rank', aggfunc= \"sum\")"
   ]
  },
  {
   "cell_type": "code",
   "execution_count": null,
   "id": "a0760478",
   "metadata": {},
   "outputs": [],
   "source": [
    "popularity_rk"
   ]
  },
  {
   "cell_type": "code",
   "execution_count": null,
   "id": "843b2b70",
   "metadata": {},
   "outputs": [],
   "source": [
    "fig = px.bar(popularity_rk, x=popularity_rk.index, y='profit')\n",
    "fig.show()"
   ]
  },
  {
   "cell_type": "markdown",
   "id": "b9f54af2",
   "metadata": {},
   "source": [
    "##### Horizontal Bar Chart with Plotly Express"
   ]
  },
  {
   "cell_type": "code",
   "execution_count": null,
   "id": "7877ec8e",
   "metadata": {},
   "outputs": [],
   "source": [
    "fig = px.bar(popularity_rk, y=popularity_rk.index, x='profit', orientation='h')\n",
    "fig.show()"
   ]
  },
  {
   "cell_type": "code",
   "execution_count": null,
   "id": "865217c7",
   "metadata": {},
   "outputs": [],
   "source": [
    "dt = [\n",
    "    go.Bar(\n",
    "        y = popularity_rk.index,\n",
    "        x = popularity_rk.profit,\n",
    "        name = 'Average Revenue by Popularity',\n",
    "        orientation = 'h',\n",
    "        marker=dict(\n",
    "        color='rgba(246, 78, 139, 0.6)',\n",
    "        line=dict(color='rgba(246, 78, 139, 1.0)', width=3)     \n",
    "    )\n",
    "    )\n",
    "]\n",
    "layout = go.Layout(title='Average Revenue by Popularity')"
   ]
  },
  {
   "cell_type": "code",
   "execution_count": null,
   "id": "6929561e",
   "metadata": {},
   "outputs": [],
   "source": [
    "figure = go.Figure(data = dt, layout=layout)"
   ]
  },
  {
   "cell_type": "code",
   "execution_count": null,
   "id": "810706fb",
   "metadata": {},
   "outputs": [],
   "source": [
    "pyo.plot(\n",
    "    figure\n",
    ")"
   ]
  },
  {
   "cell_type": "markdown",
   "id": "3e76e6e8",
   "metadata": {},
   "source": [
    "### Gnatt Chart"
   ]
  },
  {
   "cell_type": "code",
   "execution_count": null,
   "id": "8f2a77f4",
   "metadata": {},
   "outputs": [],
   "source": [
    "ddf = pd.DataFrame([\n",
    "    dict(Task=\"Job A\", Start='2009-01-01', Finish='2009-02-28', Resource=\"Alex\"),\n",
    "    dict(Task=\"Job B\", Start='2009-03-05', Finish='2009-04-15', Resource=\"Alex\"),\n",
    "    dict(Task=\"Job C\", Start='2009-02-20', Finish='2009-05-30', Resource=\"Max\"),\n",
    "    dict(Task=\"Job D\", Start='2010-03-05', Finish='2010-04-15', Resource=\"Alex\"),\n",
    "    dict(Task=\"Job E\", Start='2011-02-20', Finish='2013-05-30', Resource=\"Max\")\n",
    "])\n",
    "ddf\n"
   ]
  },
  {
   "cell_type": "code",
   "execution_count": null,
   "id": "1f93735e",
   "metadata": {},
   "outputs": [],
   "source": [
    "fig = px.timeline(ddf, x_start=\"Start\", x_end=\"Finish\", y=\"Task\", color=\"Resource\")\n",
    "fig.update_yaxes(autorange=\"reversed\")\n",
    "fig.show()"
   ]
  },
  {
   "cell_type": "markdown",
   "id": "d8871ffc",
   "metadata": {},
   "source": [
    "[Documentation of Plotly](https://plotly.com/python/)"
   ]
  },
  {
   "cell_type": "markdown",
   "id": "7f22dfda",
   "metadata": {},
   "source": [
    "## Streamlit"
   ]
  },
  {
   "cell_type": "markdown",
   "id": "182e776a",
   "metadata": {},
   "source": [
    "**Streamlit is an open-source Python library that makes it easy to create and share beautiful, custom web apps for machine learning and data science. In just a few minutes you can build and deploy powerful data apps. So**"
   ]
  },
  {
   "cell_type": "markdown",
   "id": "15e775d6",
   "metadata": {},
   "source": [
    "**Widgets**"
   ]
  },
  {
   "cell_type": "markdown",
   "id": "a23b13c6",
   "metadata": {},
   "source": [
    "#### Let us try some basic analytics on Jupyter Notebook and also on Streamlit"
   ]
  },
  {
   "cell_type": "code",
   "execution_count": null,
   "id": "1a4ff747",
   "metadata": {},
   "outputs": [],
   "source": [
    "df.head()"
   ]
  },
  {
   "cell_type": "markdown",
   "id": "09a3fef7",
   "metadata": {},
   "source": [
    "### Build a Recommender System"
   ]
  },
  {
   "cell_type": "code",
   "execution_count": null,
   "id": "c52ece71",
   "metadata": {},
   "outputs": [],
   "source": [
    "lngs = df['original_language'].unique()\n",
    "print(\"select any of the following\",lngs)\n",
    "choice = input(\"Type the Language as seen : \")"
   ]
  },
  {
   "cell_type": "code",
   "execution_count": null,
   "id": "da6c215c",
   "metadata": {},
   "outputs": [],
   "source": [
    "df[df[\"original_language\"] == choice].sort_values(by=['popularity'], ascending=False)[[\"title\",'popularity']]"
   ]
  },
  {
   "cell_type": "markdown",
   "id": "66c13447",
   "metadata": {},
   "source": [
    "### Check Vote Average by Year"
   ]
  },
  {
   "cell_type": "code",
   "execution_count": null,
   "id": "42337fb8",
   "metadata": {},
   "outputs": [],
   "source": [
    "df"
   ]
  },
  {
   "cell_type": "code",
   "execution_count": null,
   "id": "26695972",
   "metadata": {},
   "outputs": [],
   "source": [
    "years = df['year'].unique()\n",
    "print(\"select any of the following\",years)\n",
    "year_to_filter = input(\"Type the Year as seen : \")"
   ]
  },
  {
   "cell_type": "code",
   "execution_count": null,
   "id": "31022950",
   "metadata": {},
   "outputs": [],
   "source": [
    "filtered_data = df[df['year'] == int(year_to_filter)]"
   ]
  },
  {
   "cell_type": "code",
   "execution_count": null,
   "id": "448c7efc",
   "metadata": {},
   "outputs": [],
   "source": [
    "filtered_data "
   ]
  },
  {
   "cell_type": "code",
   "execution_count": null,
   "id": "41ba19d1",
   "metadata": {},
   "outputs": [],
   "source": [
    "sns.lineplot(data = filtered_data,x = filtered_data.index, y = 'vote_average', hue='popularity_rank')"
   ]
  },
  {
   "cell_type": "markdown",
   "id": "d52f60c0",
   "metadata": {},
   "source": [
    "### Search Movie"
   ]
  },
  {
   "cell_type": "code",
   "execution_count": null,
   "id": "00bb420d",
   "metadata": {},
   "outputs": [],
   "source": [
    "selected_movie = input(\"Type Movie Name : \")\n",
    "# Orphan: First Kill"
   ]
  },
  {
   "cell_type": "code",
   "execution_count": null,
   "id": "d4f8cb6a",
   "metadata": {},
   "outputs": [],
   "source": [
    "def searcher(mvs_name, kw):\n",
    "    recomd = []\n",
    "    if kw in mvs_name.split():\n",
    "        recomd.append(mvs_name)\n",
    "    if len(recomd)>0:\n",
    "        return recomd"
   ]
  },
  {
   "cell_type": "code",
   "execution_count": null,
   "id": "04ebcab3",
   "metadata": {},
   "outputs": [],
   "source": [
    "rcd = df['title'].apply(lambda x:searcher(x, selected_movie))\n",
    "for each in rcd:\n",
    "    if each != None:\n",
    "        print(each)"
   ]
  },
  {
   "cell_type": "code",
   "execution_count": null,
   "id": "2351798c",
   "metadata": {},
   "outputs": [],
   "source": [
    "df[df['title'] == selected_movie]"
   ]
  },
  {
   "cell_type": "code",
   "execution_count": null,
   "id": "f148967a",
   "metadata": {},
   "outputs": [],
   "source": [
    "### Installing Streamlit on Machine"
   ]
  },
  {
   "cell_type": "code",
   "execution_count": null,
   "id": "c458e946",
   "metadata": {},
   "outputs": [],
   "source": [
    "#!pip3 install streamlit --user"
   ]
  },
  {
   "cell_type": "code",
   "execution_count": null,
   "id": "d415605d",
   "metadata": {},
   "outputs": [],
   "source": [
    "#!python -m streamlit run main_page.py"
   ]
  },
  {
   "cell_type": "code",
   "execution_count": null,
   "id": "3fca5fc2",
   "metadata": {},
   "outputs": [],
   "source": []
  }
 ],
 "metadata": {
  "kernelspec": {
   "display_name": "Python 3 (ipykernel)",
   "language": "python",
   "name": "python3"
  },
  "language_info": {
   "codemirror_mode": {
    "name": "ipython",
    "version": 3
   },
   "file_extension": ".py",
   "mimetype": "text/x-python",
   "name": "python",
   "nbconvert_exporter": "python",
   "pygments_lexer": "ipython3",
   "version": "3.9.13"
  }
 },
 "nbformat": 4,
 "nbformat_minor": 5
}
