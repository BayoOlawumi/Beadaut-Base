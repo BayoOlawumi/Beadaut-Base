{
 "cells": [
  {
   "cell_type": "markdown",
   "id": "c0bbe737",
   "metadata": {},
   "source": [
    "### LIMIT"
   ]
  },
  {
   "cell_type": "markdown",
   "id": "7e3e87d2",
   "metadata": {},
   "source": [
    "**This is used to limit the number of records fetched upon query**\n",
    "Syntax : SELECT columns1, columns2, columnN\n",
    "         FROM table_name\n",
    "         LIMIT [no of rows]"
   ]
  },
  {
   "cell_type": "code",
   "execution_count": 2,
   "id": "27641c76",
   "metadata": {},
   "outputs": [],
   "source": [
    "import sqlite3\n",
    "conn = sqlite3.connect('../example.db')\n",
    "cursor = conn.cursor()"
   ]
  },
  {
   "cell_type": "code",
   "execution_count": 3,
   "id": "80c90121",
   "metadata": {},
   "outputs": [
    {
     "name": "stdout",
     "output_type": "stream",
     "text": [
      "[('Ramya', 'Rama Priya', 27, 'F', 9000.0, 'I like what I do'), ('Kolapo', 'Joshua', 40, 'M', 7000.0, 'I am a singer'), ('Sarmista', 'Sharma', 26, 'F', 10000.0, 'I was made in the moon')]\n"
     ]
    }
   ],
   "source": [
    "cursor.execute('''SELECT * FROM EMPLOYEE''')\n",
    "conn.commit()\n",
    "\n",
    "result4 = cursor.fetchall()\n",
    "print(result4)"
   ]
  },
  {
   "cell_type": "code",
   "execution_count": 4,
   "id": "4dec9a27",
   "metadata": {},
   "outputs": [
    {
     "name": "stdout",
     "output_type": "stream",
     "text": [
      "[('Ramya', 'Rama Priya', 27, 'F', 9000.0, 'I like what I do'), ('Kolapo', 'Joshua', 40, 'M', 7000.0, 'I am a singer')]\n"
     ]
    }
   ],
   "source": [
    "cursor.execute('''SELECT * FROM EMPLOYEE LIMIT 2''')\n",
    "conn.commit()\n",
    "\n",
    "result4 = cursor.fetchall()\n",
    "print(result4)"
   ]
  },
  {
   "cell_type": "code",
   "execution_count": 5,
   "id": "2af3846c",
   "metadata": {},
   "outputs": [
    {
     "name": "stdout",
     "output_type": "stream",
     "text": [
      "[('Ramya', 'Rama Priya', 27, 'F', 9000.0, 'I like what I do'), ('Sarmista', 'Sharma', 26, 'F', 10000.0, 'I was made in the moon')]\n"
     ]
    }
   ],
   "source": [
    "cursor.execute('''SELECT * FROM EMPLOYEE WHERE SEX='F' ''')\n",
    "conn.commit()\n",
    "\n",
    "result4 = cursor.fetchall()\n",
    "print(result4)"
   ]
  },
  {
   "cell_type": "code",
   "execution_count": 6,
   "id": "c316832d",
   "metadata": {},
   "outputs": [
    {
     "name": "stdout",
     "output_type": "stream",
     "text": [
      "[('Ramya', 'Rama Priya', 27, 'F', 9000.0, 'I like what I do')]\n"
     ]
    }
   ],
   "source": [
    "cursor.execute('''SELECT * FROM EMPLOYEE WHERE SEX='F' LIMIT 1 ''')\n",
    "conn.commit()\n",
    "\n",
    "result4 = cursor.fetchall()\n",
    "print(result4)"
   ]
  },
  {
   "cell_type": "markdown",
   "id": "55f40ea4",
   "metadata": {},
   "source": [
    "### JOIN"
   ]
  },
  {
   "cell_type": "code",
   "execution_count": 21,
   "id": "60ebc110",
   "metadata": {},
   "outputs": [
    {
     "name": "stdout",
     "output_type": "stream",
     "text": [
      "Table created successfully........\n"
     ]
    }
   ],
   "source": [
    "#Droping EMPLOYEE table if already exists.\n",
    "cursor.execute(\"DROP TABLE IF EXISTS ADMIN\")\n",
    "\n",
    "\n",
    "#Creating table as per requirement\n",
    "sql ='''CREATE TABLE ADMIN(\n",
    "         FIRST_NAME CHAR(20) NOT NULL,\n",
    "         LAST_NAME CHAR(20),\n",
    "         MARITAL_STATUS BOOLEAN,\n",
    "         SALARY FLOAT,\n",
    "         RETIREMENT_YEAR INT(4),\n",
    "         STAKE INT\n",
    "         )\n",
    "    '''\n",
    "cursor.execute(sql)\n",
    "print(\"Table created successfully........\")\n",
    "conn.commit()\n"
   ]
  },
  {
   "cell_type": "code",
   "execution_count": 22,
   "id": "7f4bced8",
   "metadata": {},
   "outputs": [
    {
     "name": "stdout",
     "output_type": "stream",
     "text": [
      "[('EMPLOYEE',), ('ADMIN',)]\n"
     ]
    }
   ],
   "source": [
    "cursor.execute(\"\"\"SELECT name FROM sqlite_master \n",
    "    WHERE type='table';\"\"\")\n",
    "\n",
    "conn.commit()\n",
    "\n",
    "result6 = cursor.fetchall()\n",
    "print(result6)"
   ]
  },
  {
   "cell_type": "code",
   "execution_count": 24,
   "id": "ca695264",
   "metadata": {},
   "outputs": [],
   "source": [
    "cursor.execute('''INSERT INTO ADMIN(FIRST_NAME, LAST_NAME,\n",
    " MARITAL_STATUS, SALARY,RETIREMENT_YEAR, STAKE) VALUES ('Vinay','Christy', 'TRUE', 30000,2028, '10')''')\n",
    "\n",
    "cursor.execute('''INSERT INTO ADMIN(FIRST_NAME, LAST_NAME,\n",
    " MARITAL_STATUS, SALARY,RETIREMENT_YEAR, STAKE) VALUES ('Sarmista','Sharma', 'FALSE',  '90000','2038', '20')''')\n",
    "\n",
    "cursor.execute('''INSERT INTO ADMIN(FIRST_NAME, LAST_NAME,\n",
    " MARITAL_STATUS, SALARY,RETIREMENT_YEAR, STAKE) VALUES ('Ramya','Rama Priya', 'TRUE', 50000, 2060, '30')''')\n",
    "\n",
    "# Commit your changes in the database\n",
    "conn.commit()"
   ]
  },
  {
   "cell_type": "code",
   "execution_count": 25,
   "id": "a8bfe234",
   "metadata": {},
   "outputs": [
    {
     "name": "stdout",
     "output_type": "stream",
     "text": [
      "[('Vinay', 'Christy', 'TRUE', 30000.0, 2028, 10), ('Sarmista', 'Sharma', 'FALSE', 90000.0, 2038, 20), ('Ramya', 'Rama Priya', 'TRUE', 50000.0, 2060, 30)]\n"
     ]
    }
   ],
   "source": [
    "cursor.execute('''SELECT * FROM ADMIN''')\n",
    "conn.commit()\n",
    "\n",
    "result4 = cursor.fetchall()\n",
    "print(result4)"
   ]
  },
  {
   "cell_type": "markdown",
   "id": "6009eaa2",
   "metadata": {},
   "source": [
    "**How do we use JOIN?**"
   ]
  },
  {
   "cell_type": "code",
   "execution_count": 28,
   "id": "4eb41300",
   "metadata": {},
   "outputs": [
    {
     "name": "stdout",
     "output_type": "stream",
     "text": [
      "[('Ramya', 27, 'TRUE', 2060), ('Sarmista', 26, 'FALSE', 2038)]\n"
     ]
    }
   ],
   "source": [
    "cursor.execute('''SELECT EMPLOYEE.FIRST_NAME, EMPLOYEE.AGE, ADMIN.MARITAL_STATUS, ADMIN.RETIREMENT_YEAR \n",
    "                  FROM EMPLOYEE\n",
    "                  INNER JOIN ADMIN ON EMPLOYEE.FIRST_NAME = ADMIN.FIRST_NAME''')\n",
    "conn.commit()\n",
    "\n",
    "result4 = cursor.fetchall()\n",
    "print(result4)"
   ]
  },
  {
   "cell_type": "markdown",
   "id": "4d1a7caa",
   "metadata": {},
   "source": [
    "**Take Note: There are Four(4) kinds of joins**"
   ]
  },
  {
   "cell_type": "markdown",
   "id": "18418f10",
   "metadata": {},
   "source": [
    "!['Join Types'](join_img.png)"
   ]
  },
  {
   "cell_type": "markdown",
   "id": "7f52b782",
   "metadata": {},
   "source": [
    "#### INNER JOIN\n",
    "**The INNER JOIN keyword selects all rows from both the tables as long as the condition is satisfied.**"
   ]
  },
  {
   "cell_type": "raw",
   "id": "f18aed7b",
   "metadata": {},
   "source": [
    "SELECT table1.column1,table1.column2,table2.column1,....\n",
    "FROM table1 \n",
    "INNER JOIN table2\n",
    "ON table1.matching_column = table2.matching_column;"
   ]
  },
  {
   "cell_type": "markdown",
   "id": "19aff252",
   "metadata": {},
   "source": [
    "**The example we have avove**"
   ]
  },
  {
   "cell_type": "markdown",
   "id": "eb979fb0",
   "metadata": {},
   "source": [
    "#### LEFT JOIN\n",
    "This join returns all the rows of the table on the left side of the join and matches rows for the table on the right side of the join. For the rows for which there is no matching row on the right side, the result-set will contain null"
   ]
  },
  {
   "cell_type": "raw",
   "id": "f37d9adc",
   "metadata": {},
   "source": [
    "SELECT table1.column1,table1.column2,table2.column1,....\n",
    "FROM table1 \n",
    "LEFT JOIN table2\n",
    "ON table1.matching_column = table2.matching_column;"
   ]
  },
  {
   "cell_type": "code",
   "execution_count": 31,
   "id": "88292ff4",
   "metadata": {
    "scrolled": true
   },
   "outputs": [
    {
     "name": "stdout",
     "output_type": "stream",
     "text": [
      "[('Ramya', 27, 'TRUE', 2060), ('Kolapo', 40, None, None), ('Sarmista', 26, 'FALSE', 2038)]\n"
     ]
    }
   ],
   "source": [
    "cursor.execute('''SELECT EMPLOYEE.FIRST_NAME, EMPLOYEE.AGE, ADMIN.MARITAL_STATUS, ADMIN.RETIREMENT_YEAR \n",
    "                  FROM EMPLOYEE\n",
    "                  LEFT JOIN ADMIN ON EMPLOYEE.FIRST_NAME = ADMIN.FIRST_NAME''')\n",
    "conn.commit()\n",
    "\n",
    "result4 = cursor.fetchall()\n",
    "print(result4)"
   ]
  },
  {
   "cell_type": "markdown",
   "id": "0bc02937",
   "metadata": {},
   "source": [
    "#### RIGHT JOIN\n",
    "RIGHT JOIN is similar to LEFT JOIN. This join returns all the rows of the table on the right side of the join and matching rows for the table on the left side of the join. For the rows for which there is no matching row on the left side, the result-set will contain null. "
   ]
  },
  {
   "cell_type": "raw",
   "id": "a9bf5a39",
   "metadata": {},
   "source": [
    "SELECT table1.column1,table1.column2,table2.column1,....\n",
    "FROM table1 \n",
    "RIGHT JOIN table2\n",
    "ON table1.matching_column = table2.matching_column;"
   ]
  },
  {
   "cell_type": "code",
   "execution_count": 32,
   "id": "c6d579c3",
   "metadata": {},
   "outputs": [
    {
     "name": "stdout",
     "output_type": "stream",
     "text": [
      "[('Ramya', 27, 'TRUE', 2060), ('Sarmista', 26, 'FALSE', 2038), (None, None, 'TRUE', 2028)]\n"
     ]
    }
   ],
   "source": [
    "cursor.execute('''SELECT EMPLOYEE.FIRST_NAME, EMPLOYEE.AGE, ADMIN.MARITAL_STATUS, ADMIN.RETIREMENT_YEAR \n",
    "                  FROM EMPLOYEE\n",
    "                  RIGHT JOIN ADMIN ON EMPLOYEE.FIRST_NAME = ADMIN.FIRST_NAME''')\n",
    "conn.commit()\n",
    "\n",
    "result4 = cursor.fetchall()\n",
    "print(result4)"
   ]
  },
  {
   "cell_type": "markdown",
   "id": "4edeabd3",
   "metadata": {},
   "source": [
    "#### FULL JOIN\n",
    "FULL JOIN creates the result-set by combining results of both LEFT JOIN and RIGHT JOIN. The result-set will contain all the rows from both tables. For the rows for which there is no matching, the result-set will contain NULL values."
   ]
  },
  {
   "cell_type": "raw",
   "id": "9bd05a3c",
   "metadata": {},
   "source": [
    "SELECT table1.column1,table1.column2,table2.column1,....\n",
    "FROM table1 \n",
    "FULL JOIN table2\n",
    "ON table1.matching_column = table2.matching_column;"
   ]
  },
  {
   "cell_type": "code",
   "execution_count": 33,
   "id": "1c13579e",
   "metadata": {},
   "outputs": [
    {
     "name": "stdout",
     "output_type": "stream",
     "text": [
      "[('Ramya', 27, 'TRUE', 2060), ('Kolapo', 40, None, None), ('Sarmista', 26, 'FALSE', 2038), (None, None, 'TRUE', 2028)]\n"
     ]
    }
   ],
   "source": [
    "cursor.execute('''SELECT EMPLOYEE.FIRST_NAME, EMPLOYEE.AGE, ADMIN.MARITAL_STATUS, ADMIN.RETIREMENT_YEAR \n",
    "                  FROM EMPLOYEE\n",
    "                  FULL JOIN ADMIN ON EMPLOYEE.FIRST_NAME = ADMIN.FIRST_NAME''')\n",
    "conn.commit()\n",
    "\n",
    "result4 = cursor.fetchall()\n",
    "print(result4)"
   ]
  },
  {
   "cell_type": "markdown",
   "id": "c623ac9d",
   "metadata": {},
   "source": [
    "### Learn how to convert a dataframe to table and save on an SQL table"
   ]
  },
  {
   "cell_type": "code",
   "execution_count": 35,
   "id": "7c5013cc",
   "metadata": {},
   "outputs": [],
   "source": [
    "import sqlite3\n",
    "import pandas as pd\n",
    "conn = sqlite3.connect('../example.db')\n",
    "cursor = conn.cursor()"
   ]
  },
  {
   "cell_type": "code",
   "execution_count": 36,
   "id": "9eed1bfe",
   "metadata": {},
   "outputs": [],
   "source": [
    "cursor = conn.cursor()\n",
    "\n",
    "# Create you virtual db as usual\n",
    "cursor.execute('''CREATE TABLE Product_Data (\n",
    "                    Member_number INTEGER,\n",
    "                    ItemDescription TEXT,\n",
    "                    Date DATE\n",
    "                )''')\n",
    "conn.commit()"
   ]
  },
  {
   "cell_type": "code",
   "execution_count": 37,
   "id": "707b9382",
   "metadata": {},
   "outputs": [],
   "source": [
    "df = pd.read_csv('../product_db.csv')"
   ]
  },
  {
   "cell_type": "code",
   "execution_count": 38,
   "id": "99cd8f1d",
   "metadata": {},
   "outputs": [
    {
     "data": {
      "text/html": [
       "<div>\n",
       "<style scoped>\n",
       "    .dataframe tbody tr th:only-of-type {\n",
       "        vertical-align: middle;\n",
       "    }\n",
       "\n",
       "    .dataframe tbody tr th {\n",
       "        vertical-align: top;\n",
       "    }\n",
       "\n",
       "    .dataframe thead th {\n",
       "        text-align: right;\n",
       "    }\n",
       "</style>\n",
       "<table border=\"1\" class=\"dataframe\">\n",
       "  <thead>\n",
       "    <tr style=\"text-align: right;\">\n",
       "      <th></th>\n",
       "      <th>Member_number</th>\n",
       "      <th>Date</th>\n",
       "      <th>itemDescription</th>\n",
       "    </tr>\n",
       "  </thead>\n",
       "  <tbody>\n",
       "    <tr>\n",
       "      <th>0</th>\n",
       "      <td>1808</td>\n",
       "      <td>21-07-2015</td>\n",
       "      <td>tropical fruit</td>\n",
       "    </tr>\n",
       "    <tr>\n",
       "      <th>1</th>\n",
       "      <td>2552</td>\n",
       "      <td>05-01-2015</td>\n",
       "      <td>whole milk</td>\n",
       "    </tr>\n",
       "    <tr>\n",
       "      <th>2</th>\n",
       "      <td>2300</td>\n",
       "      <td>19-09-2015</td>\n",
       "      <td>pip fruit</td>\n",
       "    </tr>\n",
       "    <tr>\n",
       "      <th>3</th>\n",
       "      <td>1187</td>\n",
       "      <td>12-12-2015</td>\n",
       "      <td>other vegetables</td>\n",
       "    </tr>\n",
       "    <tr>\n",
       "      <th>4</th>\n",
       "      <td>3037</td>\n",
       "      <td>01-02-2015</td>\n",
       "      <td>whole milk</td>\n",
       "    </tr>\n",
       "  </tbody>\n",
       "</table>\n",
       "</div>"
      ],
      "text/plain": [
       "   Member_number        Date   itemDescription\n",
       "0           1808  21-07-2015    tropical fruit\n",
       "1           2552  05-01-2015        whole milk\n",
       "2           2300  19-09-2015         pip fruit\n",
       "3           1187  12-12-2015  other vegetables\n",
       "4           3037  01-02-2015        whole milk"
      ]
     },
     "execution_count": 38,
     "metadata": {},
     "output_type": "execute_result"
    }
   ],
   "source": [
    "df.head()"
   ]
  },
  {
   "cell_type": "code",
   "execution_count": 39,
   "id": "07c19af0",
   "metadata": {},
   "outputs": [
    {
     "data": {
      "text/plain": [
       "38765"
      ]
     },
     "execution_count": 39,
     "metadata": {},
     "output_type": "execute_result"
    }
   ],
   "source": [
    "# Loading the Pandas DataFrame into the table created \n",
    "df.to_sql('Product_Data', conn, if_exists='replace', index=False)"
   ]
  },
  {
   "cell_type": "code",
   "execution_count": 40,
   "id": "b50286d1",
   "metadata": {},
   "outputs": [
    {
     "name": "stdout",
     "output_type": "stream",
     "text": [
      "[(167,)]\n"
     ]
    }
   ],
   "source": [
    "## Let's test\n",
    "sql1 = '''\n",
    "    SELECT COUNT(DISTINCT(itemDescription)) FROM Product_Data\n",
    "'''\n",
    "cursor.execute(sql1)\n",
    "conn.commit()\n",
    "result1 = cursor.fetchall()\n",
    "print(result1)"
   ]
  },
  {
   "cell_type": "code",
   "execution_count": null,
   "id": "d10e6688",
   "metadata": {},
   "outputs": [],
   "source": []
  }
 ],
 "metadata": {
  "kernelspec": {
   "display_name": "Python 3 (ipykernel)",
   "language": "python",
   "name": "python3"
  },
  "language_info": {
   "codemirror_mode": {
    "name": "ipython",
    "version": 3
   },
   "file_extension": ".py",
   "mimetype": "text/x-python",
   "name": "python",
   "nbconvert_exporter": "python",
   "pygments_lexer": "ipython3",
   "version": "3.9.13"
  }
 },
 "nbformat": 4,
 "nbformat_minor": 5
}
